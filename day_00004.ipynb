{
  "cells": [
    {
      "cell_type": "markdown",
      "metadata": {
        "id": "8iCC3GxAMGfK"
      },
      "source": [
        "***Randomization In Python Lists***"
      ]
    },
    {
      "cell_type": "markdown",
      "metadata": {
        "id": "HuhZQWYbRUGC"
      },
      "source": [
        "**Basics**"
      ]
    },
    {
      "cell_type": "code",
      "execution_count": null,
      "metadata": {
        "colab": {
          "base_uri": "https://localhost:8080/"
        },
        "id": "hltmEdMSB4J5",
        "outputId": "0a7183e9-3581-4ca0-e1a8-05d44f38b22c"
      },
      "outputs": [
        {
          "name": "stdout",
          "output_type": "stream",
          "text": [
            "0\n",
            "2.048754775430953\n",
            "X = 0 printing is not equal to 1\n",
            "Parvathi\n"
          ]
        }
      ],
      "source": [
        "import random\n",
        "\n",
        "Numbers = random.randint(0,6)\n",
        "\n",
        "print(Numbers)\n",
        "\n",
        "\n",
        "floats = random.random() * 10\n",
        "\n",
        "print(floats)\n",
        "\n",
        "\n",
        "X = random.randint(0,1)\n",
        "\n",
        "if X == 1:\n",
        "  print((f\"X = {X} printing is equal to 1\"))\n",
        "else :\n",
        "  print(f\"X = {X} printing is not equal to 1\")\n",
        "\n",
        "Name = [\"Shiva\",\"Parvathi\",\"Muruga\",\"Ganesha\"]\n",
        "\n",
        "print(random.choice(Name))"
      ]
    },
    {
      "cell_type": "code",
      "execution_count": null,
      "metadata": {
        "id": "lY0SnmDJMitv"
      },
      "outputs": [],
      "source": [
        "import random\n",
        "\n",
        "a = ['A', 'B', 'C']\n",
        "b = ['D', 'E', 'F']\n",
        "c = ['G', 'H', 'Q']\n",
        "\n",
        "# Define the 3x3 grid\n",
        "grid = [a, b, c]\n",
        "\n",
        "# Shuffle the grid to randomize \"Q\" location\n",
        "random.shuffle(grid)\n",
        "\n",
        "# Print the shuffled grid\n",
        "for row in grid:\n",
        "    print(row)\n"
      ]
    },
    {
      "cell_type": "markdown",
      "metadata": {
        "id": "wDMmN9vJbaFr"
      },
      "source": [
        "**Hand Cricket**"
      ]
    },
    {
      "cell_type": "code",
      "source": [
        "import random\n",
        "\n",
        "Name_ = input(\"Enter Your Name - \")\n",
        "\n",
        "print(f\"\"\"\n",
        "--------------------------------------------------------------------------\n",
        "                              Hi {Name_}\n",
        "@                                _                              .    ,,\n",
        " \\\\    _   @'                    ( )_                       .      _  \\\\\n",
        "   \\\\_( )_//                    / Y  |                  .      /--( )_//\n",
        "    | Y/--                    /\\\\   /               .        '//  \\\\~ \\\\\n",
        "    |_/       _ / o\"         ( _\\\\ /            .                  \\\\__\\\\\n",
        "   // \\\\      | | |    .       \\\\_\\\\\\\\        .                      //  \\\\\\\\\n",
        "  // //      | | |        .   / \\\\ \\\\   .                         ||    \\\\_--,\n",
        "_// //_______|_|_|__________/_/_\\\\_\\\\Q___________________________#||________\n",
        "---------------------Welcome to Cricket World ------------------------\n",
        "\n",
        "\"\"\")\n",
        "\n",
        "\n",
        "Mode = str(input(\"Please enter your Mode (Easy/Hard): \"))\n",
        "\n",
        "def easy_mode_cricket():\n",
        "    no_of_chances_1 = 0\n",
        "    no_of_wickets = 0\n",
        "    batting = [1, 2, 3, 4, 6]\n",
        "    No_of_Over = int(input(\"Please select the number of overs: \")) * 6\n",
        "    your_runs = 0\n",
        "    ball = 0\n",
        "    over = 0\n",
        "    Total_wicket = int(input(\"Please select the number of wickets in this match: \"))\n",
        "\n",
        "    while no_of_chances_1 < No_of_Over and no_of_wickets < Total_wicket:\n",
        "\n",
        "      runs = int(input(\"Enter your strike between 1 and 6 without 5: \"))\n",
        "\n",
        "\n",
        "      if runs < 1 or runs > 6 or runs == 5 :\n",
        "        print(\"Invalid input. Please enter a number between 1 and 6 without 5.\")\n",
        "        continue\n",
        "\n",
        "      comp_bowl = random.choice(batting)\n",
        "\n",
        "      if runs == comp_bowl:\n",
        "            no_of_wickets += 1\n",
        "            ball += 1\n",
        "            print(\"Your Guess: \", runs, \", Computer Guess: \", comp_bowl)\n",
        "\n",
        "            if ball > 6:\n",
        "                over += 1\n",
        "                ball = 1\n",
        "                print(f\"You are Out at {over} Over. Ball {ball}. You lost your {no_of_wickets} wicket\")\n",
        "            else:\n",
        "                print(f\"You are Out at {over} Over. Ball {ball}. You lost your {no_of_wickets} wicket\")\n",
        "      else:\n",
        "            print(\"Your Guess: \", runs, \", Computer Guess: \", comp_bowl)\n",
        "            your_runs += runs\n",
        "            ball += 1\n",
        "\n",
        "            if ball > 6:\n",
        "                over += 1\n",
        "                ball = 1\n",
        "                print(f\"{over} Over. Ball {ball}: Your Runs: {your_runs}\")\n",
        "            else:\n",
        "                print(f\"{over} Over. Ball {ball}: Your Runs: {your_runs}\")\n",
        "\n",
        "      no_of_chances_1 += 1\n",
        "\n",
        "    if no_of_chances_1 == No_of_Over:\n",
        "\n",
        "        print(\"-----------------------------------------------\\nMatch ended by Out of Over. Your Score is: \", your_runs)\n",
        "    else:\n",
        "        print(\"-----------------------------------------------\\nMatch ended by Out of Wicket. Your Score is: \", your_runs)\n",
        "\n",
        "#Hard Mode\n",
        "def hard_mode_cricket():\n",
        "    no_of_chances_1 = 0\n",
        "    no_of_wickets = 0\n",
        "    Low_Bat = [1, 2, 3]\n",
        "    High_Bat = [4, 6]\n",
        "    No_of_Over = int(input(\"Please select the number of overs: \")) * 6\n",
        "    your_runs = 0\n",
        "    ball = 0\n",
        "    over = 0\n",
        "    Total_wicket = int(input(\"Please select the number of wickets in this match: \"))\n",
        "\n",
        "    while no_of_chances_1 < No_of_Over and no_of_wickets < Total_wicket:\n",
        "\n",
        "      runs = int(input(\"Enter your strike between 1 and 6 without 5: \"))\n",
        "\n",
        "\n",
        "      if runs < 1 or runs > 6 or runs == 5 :\n",
        "        print(\"Invalid input. Please enter a number between 1 and 6 without 5.\")\n",
        "        continue\n",
        "\n",
        "      if runs == 4 or runs == 6 :\n",
        "        comp_bowl = random.choice(High_Bat)\n",
        "        if runs == comp_bowl:\n",
        "            no_of_wickets += 1\n",
        "            ball += 1\n",
        "            print(\"Your Guess: \", runs, \", Computer Guess: \", comp_bowl)\n",
        "            if ball > 6:\n",
        "                over += 1\n",
        "                ball = 1\n",
        "                print(f\"You are Out at {over} Over. Ball {ball}. You lost your {no_of_wickets} wicket\")\n",
        "            else:\n",
        "                print(f\"You are Out at {over} Over. Ball {ball}. You lost your {no_of_wickets} wicket\")\n",
        "        else:\n",
        "          print(\"Your Guess: \", runs, \", Computer Guess: \", comp_bowl)\n",
        "          your_runs += runs\n",
        "          ball += 1\n",
        "          if ball > 6:\n",
        "              over += 1\n",
        "              ball = 1\n",
        "              print(f\"{over} Over. Ball {ball}: Your Runs: {your_runs}\")\n",
        "          else:\n",
        "                print(f\"{over} Over. Ball {ball}: Your Runs: {your_runs}\")\n",
        "        no_of_chances_1 += 1\n",
        "\n",
        "        if no_of_chances_1 == No_of_Over :\n",
        "          print(\"-----------------------------------------------\\nMatch ended by Out of Over. Your Score is: \", your_runs)\n",
        "        elif Total_Wicket == no_of_wickets :\n",
        "          print(\"-----------------------------------------------\\nMatch ended by Out of Wicket. Your Score is: \", your_runs)\n",
        "\n",
        "\n",
        "      else:\n",
        "        comp_bowl = random.choice(Low_Bat)\n",
        "\n",
        "\n",
        "        if runs == comp_bowl:\n",
        "            no_of_wickets += 1\n",
        "            ball += 1\n",
        "            print(\"Your Guess: \", runs, \", Computer Guess: \", comp_bowl)\n",
        "\n",
        "            if ball > 6:\n",
        "                over += 1\n",
        "                ball = 1\n",
        "                print(f\"You are Out at {over} Over. Ball {ball}. You lost your {no_of_wickets} wicket\")\n",
        "            else:\n",
        "                print(f\"You are Out at {over} Over. Ball {ball}. You lost your {no_of_wickets} wicket\")\n",
        "        else:\n",
        "          print(\"Your Guess: \", runs, \", Computer Guess: \", comp_bowl)\n",
        "          your_runs += runs\n",
        "          ball += 1\n",
        "          if ball > 6:\n",
        "              over += 1\n",
        "              ball = 1\n",
        "              print(f\"{over} Over. Ball {ball}: Your Runs: {your_runs}\")\n",
        "          else:\n",
        "                print(f\"{over} Over. Ball {ball}: Your Runs: {your_runs}\")\n",
        "\n",
        "        no_of_chances_1 += 1\n",
        "\n",
        "    if no_of_chances_1 == No_of_Over:\n",
        "      print(\"-----------------------------------------------\\nMatch ended by Out of Over. Your Score is: \", your_runs)\n",
        "    elif Total_Wicket == no_of_wickets :\n",
        "      print(\"-----------------------------------------------\\nMatch ended by Out of Wicket. Your Score is: \", your_runs)\n",
        "\n",
        "\n",
        "if Mode == \"Easy\":\n",
        "    print(\"---------------Easy Mode----------------\\nYour Batting\\n\")\n",
        "    easy_mode_cricket()\n",
        "\n",
        "elif Mode == \"Hard\":\n",
        "    print(\"---------------Hard Mode----------------\\nYour Batting\\n\")\n",
        "    hard_mode_cricket()"
      ],
      "metadata": {
        "id": "kXjWJyLI1w8-",
        "colab": {
          "base_uri": "https://localhost:8080/"
        },
        "outputId": "97c7417a-5e0c-4d72-8e6a-bf1be9c99c81"
      },
      "execution_count": null,
      "outputs": [
        {
          "output_type": "stream",
          "name": "stdout",
          "text": [
            "Enter Your Name - Bhasha\n",
            "\n",
            "--------------------------------------------------------------------------\n",
            "                              Hi Bhasha\n",
            "@                                _                              .    ,,\n",
            " \\    _   @'                    ( )_                       .      _  \\\n",
            "   \\_( )_//                    / Y  |                  .      /--( )_//\n",
            "    | Y/--                    /\\   /               .        '//  \\~ \\\n",
            "    |_/       _ / o\"         ( _\\ /            .                  \\__\\\n",
            "   // \\      | | |    .       \\_\\\\        .                      //  \\\\\n",
            "  // //      | | |        .   / \\ \\   .                         ||    \\_--,\n",
            "_// //_______|_|_|__________/_/_\\_\\Q___________________________#||________\n",
            "---------------------Welcome to Cricket World ------------------------\n",
            "\n",
            "\n",
            "Please enter your Mode (Easy/Hard): Easy\n",
            "---------------Easy Mode----------------\n",
            "Your Batting\n",
            "\n",
            "Please select the number of overs: 1\n",
            "Please select the number of wickets in this match: 2\n",
            "Enter your strike between 1 and 6 without 5: 1\n",
            "Your Guess:  1 , Computer Guess:  6\n",
            "0 Over. Ball 1: Your Runs: 1\n",
            "Enter your strike between 1 and 6 without 5: 3\n",
            "Your Guess:  3 , Computer Guess:  6\n",
            "0 Over. Ball 2: Your Runs: 4\n",
            "Enter your strike between 1 and 6 without 5: 1\n",
            "Your Guess:  1 , Computer Guess:  2\n",
            "0 Over. Ball 3: Your Runs: 5\n",
            "Enter your strike between 1 and 6 without 5: 6\n",
            "Your Guess:  6 , Computer Guess:  3\n",
            "0 Over. Ball 4: Your Runs: 11\n",
            "Enter your strike between 1 and 6 without 5: 5\n",
            "Invalid input. Please enter a number between 1 and 6 without 5.\n",
            "Enter your strike between 1 and 6 without 5: 4\n",
            "Your Guess:  4 , Computer Guess:  6\n",
            "0 Over. Ball 5: Your Runs: 15\n",
            "Enter your strike between 1 and 6 without 5: 6\n",
            "Your Guess:  6 , Computer Guess:  6\n",
            "You are Out at 0 Over. Ball 6. You lost your 1 wicket\n",
            "-----------------------------------------------\n",
            "Match ended by Out of Over. Your Score is:  15\n"
          ]
        }
      ]
    },
    {
      "cell_type": "code",
      "source": [
        "3A = [\"Apple\",\"Ball\",\"Chat\"]\n",
        "print(A[0],A[1])"
      ],
      "metadata": {
        "colab": {
          "base_uri": "https://localhost:8080/"
        },
        "id": "txozoo494cFJ",
        "outputId": "f5e5d18a-9607-4c21-de8c-3abae456f1c5"
      },
      "execution_count": null,
      "outputs": [
        {
          "output_type": "stream",
          "name": "stdout",
          "text": [
            "Apple Ball\n"
          ]
        }
      ]
    },
    {
      "cell_type": "code",
      "source": [
        "A = 0\n",
        "\n",
        "while A < 10 :\n",
        "  A += 1\n",
        "  print(A)"
      ],
      "metadata": {
        "colab": {
          "base_uri": "https://localhost:8080/"
        },
        "id": "Mea00r3h6-0p",
        "outputId": "bb58b9db-ecee-40c6-de9d-7117ed378451"
      },
      "execution_count": null,
      "outputs": [
        {
          "output_type": "stream",
          "name": "stdout",
          "text": [
            "1\n",
            "2\n",
            "3\n",
            "4\n",
            "5\n",
            "6\n",
            "7\n",
            "8\n",
            "9\n",
            "10\n"
          ]
        }
      ]
    },
    {
      "cell_type": "code",
      "source": [
        "import random\n",
        "\n",
        "print(\"Welcome to Stone, Paper & Scissor Game\")\n",
        "\n",
        "Mode_ = str(input(\"Do you want to start the game y/n ?\"))\n",
        "\n",
        "\n",
        "def spc():\n",
        "\n",
        "  start = int(input(\"Enter your choice - Stone 0, paper  1, and  Scissor 2 - \"))\n",
        "\n",
        "  if start < 0  or start > 2 :\n",
        "    print(\"Invalid input. Please enter a number between 0 to 2. \")\n",
        "    return\n",
        "  rock = '''\n",
        "        _______\n",
        "    ---'   ____)\n",
        "          (_____)\n",
        "          (_____)\n",
        "          (____)\n",
        "    ---.__(___)\n",
        "    '''\n",
        "\n",
        "  paper = '''\n",
        "          ______\n",
        "     ---'   ____)___\n",
        "              ______)\n",
        "              _______)\n",
        "              _______)\n",
        "      ---.__________)\n",
        "      '''\n",
        "\n",
        "  scissors = '''\n",
        "        _______\n",
        "    ---'   ____)___\n",
        "             ______)\n",
        "         __________)\n",
        "          (____)\n",
        "    ---.__(___)\n",
        "    '''\n",
        "  if start == 0:\n",
        "    start = rock\n",
        "  elif start == 1:\n",
        "    start = paper\n",
        "  else:\n",
        "    start = scissors\n",
        "\n",
        "  Inputs = [rock,scissors,paper]\n",
        "\n",
        "  Guess = random.choice(Inputs)\n",
        "\n",
        "  if start == Guess:\n",
        "    print(f\"You Choose {start} and \\n Computer CHoose {Guess} \\n You Loose\")\n",
        "  else :\n",
        "    print (f\"You Choose {start} and \\n Computer CHoose {Guess} \\n You Won\")\n",
        "\n",
        "\n",
        "if Mode_ == \"Yes\" or Mode_ == \"y\" or Mode_ == \"Y\" or Mode_ == \"yes\":\n",
        "   print(\"---------------Game Starts----------------\\n\")\n",
        "   spc()\n",
        "else:\n",
        "    print(\"Enter Valid Input \")"
      ],
      "metadata": {
        "id": "wG8nyPC4Co5m",
        "colab": {
          "base_uri": "https://localhost:8080/"
        },
        "outputId": "760a3f00-ff94-4541-bf4e-2383ff5eec1f"
      },
      "execution_count": null,
      "outputs": [
        {
          "output_type": "stream",
          "name": "stdout",
          "text": [
            "Welcome to Stone, Paper & Scissor Game\n",
            "Do you want to start the game y/n ?y\n",
            "---------------Game Starts----------------\n",
            "\n",
            "Enter your choice - Stone 0, paper  1, and  Scissor 2 - 2\n",
            "You Choose   \n",
            "        _______\n",
            "    ---'   ____)___  \n",
            "             ______)  \n",
            "         __________)  \n",
            "          (____)\n",
            "    ---.__(___)  \n",
            "     and \n",
            " Computer CHoose   \n",
            "          ______\n",
            "     ---'   ____)___  \n",
            "              ______)  \n",
            "              _______)  \n",
            "              _______)\n",
            "      ---.__________)  \n",
            "       \n",
            " You Won\n"
          ]
        }
      ]
    },
    {
      "cell_type": "code",
      "source": [],
      "metadata": {
        "id": "v0Sou8rqCkY1"
      },
      "execution_count": null,
      "outputs": []
    }
  ],
  "metadata": {
    "colab": {
      "provenance": []
    },
    "kernelspec": {
      "display_name": "Python 3",
      "name": "python3"
    },
    "language_info": {
      "name": "python"
    }
  },
  "nbformat": 4,
  "nbformat_minor": 0
}