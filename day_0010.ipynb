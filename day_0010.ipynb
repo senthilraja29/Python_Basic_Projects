{
  "nbformat": 4,
  "nbformat_minor": 0,
  "metadata": {
    "colab": {
      "provenance": []
    },
    "kernelspec": {
      "name": "python3",
      "display_name": "Python 3"
    },
    "language_info": {
      "name": "python"
    }
  },
  "cells": [
    {
      "cell_type": "markdown",
      "source": [
        "**Format With Output**"
      ],
      "metadata": {
        "id": "jkLmpat9IPLa"
      }
    },
    {
      "cell_type": "code",
      "execution_count": null,
      "metadata": {
        "colab": {
          "base_uri": "https://localhost:8080/"
        },
        "id": "zbypIsSXGPrD",
        "outputId": "ece7d210-620e-48cc-cd12-28e8dffc3208"
      },
      "outputs": [
        {
          "output_type": "stream",
          "name": "stdout",
          "text": [
            "Enter the length: 10\n",
            "Enter the breadth: 2\n",
            "Area of the rectangle: 20.0\n"
          ]
        }
      ],
      "source": [
        "def area_of_rectangle(l, b):\n",
        "    return l * b\n",
        "\n",
        "# Get user input for length and breadth\n",
        "length = float(input(\"Enter the length: \"))\n",
        "breadth = float(input(\"Enter the breadth: \"))\n",
        "\n",
        "# Calculate and print the area\n",
        "area = area_of_rectangle(length, breadth)\n",
        "\n",
        "print(\"Area of the rectangle:\", area)\n"
      ]
    },
    {
      "cell_type": "code",
      "source": [
        "def add(x, y):\n",
        "    return x + y\n",
        "\n",
        "def subtract(x, y):\n",
        "    return x - y\n",
        "\n",
        "def multiply(x, y):\n",
        "    return x * y\n",
        "\n",
        "def divide(x, y):\n",
        "    if y != 0:\n",
        "        return x / y\n",
        "    else:\n",
        "        return \"Cannot divide by zero.\"\n",
        "\n",
        "# Dictionary to map operators to functions\n",
        "operations = {\n",
        "    '+': add,\n",
        "    '-': subtract,\n",
        "    '*': multiply,\n",
        "    '/': divide,\n",
        "}\n",
        "\n",
        "def calculator():\n",
        "    result = 0\n",
        "    history = []\n",
        "\n",
        "    print(\"Simple Python Calculator\")\n",
        "\n",
        "    while True:\n",
        "        # Get user input\n",
        "        try:\n",
        "            if result == 0:\n",
        "                num1 = float(input(\"Enter first number: \"))\n",
        "            else:\n",
        "                num1 = result\n",
        "\n",
        "            operator = input(\"Enter operator (+, -, *, /) or 'C' to clear result: \")\n",
        "            num2 = float(input(\"Enter second number: \"))\n",
        "\n",
        "            # Perform calculation based on operator\n",
        "            if operator in operations:\n",
        "                result = operations[operator](num1, num2)\n",
        "                history.append(result)  # Add the result to the history\n",
        "            elif operator.lower() == \"c\":\n",
        "                result = 0\n",
        "                print(\"Result cleared.\")\n",
        "                continue\n",
        "            else:\n",
        "                print(\"Invalid operator. Please enter +, -, *, /, or 'C' to clear result.\")\n",
        "                continue\n",
        "\n",
        "            # Display the result\n",
        "            print(f\"Result: {result}\")\n",
        "\n",
        "            # Ask if the user wants to perform another calculation\n",
        "            another_calculation = input(\"Do you want to perform another calculation? (yes/no): \").lower()\n",
        "            if another_calculation != \"yes\":\n",
        "                break\n",
        "\n",
        "            # Display history\n",
        "            print(\"Previous results:\", history)\n",
        "\n",
        "        except ValueError:\n",
        "            print(\"Invalid input. Please enter valid numbers.\")\n",
        "            continue\n",
        "\n",
        "calculator()\n"
      ],
      "metadata": {
        "colab": {
          "base_uri": "https://localhost:8080/",
          "height": 530
        },
        "id": "ZZwhiQITXwqb",
        "outputId": "e17467d3-1efa-462a-bee3-f7c4200f997e"
      },
      "execution_count": null,
      "outputs": [
        {
          "output_type": "stream",
          "name": "stdout",
          "text": [
            "Simple Python Calculator\n",
            "Enter first number: 10\n",
            "Enter operator (+, -, *, /) or 'C' to clear result: /\n",
            "Enter second number: 2\n",
            "Result: 5.0\n",
            "Do you want to perform another calculation? (yes/no): yes\n",
            "Previous results: [5.0]\n",
            "Enter operator (+, -, *, /) or 'C' to clear result: +\n",
            "Enter second number: 6\n",
            "Result: 11.0\n"
          ]
        },
        {
          "output_type": "error",
          "ename": "KeyboardInterrupt",
          "evalue": "Interrupted by user",
          "traceback": [
            "\u001b[0;31m---------------------------------------------------------------------------\u001b[0m",
            "\u001b[0;31mKeyboardInterrupt\u001b[0m                         Traceback (most recent call last)",
            "\u001b[0;32m<ipython-input-35-be07e562ebf7>\u001b[0m in \u001b[0;36m<cell line: 68>\u001b[0;34m()\u001b[0m\n\u001b[1;32m     66\u001b[0m             \u001b[0;32mcontinue\u001b[0m\u001b[0;34m\u001b[0m\u001b[0;34m\u001b[0m\u001b[0m\n\u001b[1;32m     67\u001b[0m \u001b[0;34m\u001b[0m\u001b[0m\n\u001b[0;32m---> 68\u001b[0;31m \u001b[0mcalculator\u001b[0m\u001b[0;34m(\u001b[0m\u001b[0;34m)\u001b[0m\u001b[0;34m\u001b[0m\u001b[0;34m\u001b[0m\u001b[0m\n\u001b[0m",
            "\u001b[0;32m<ipython-input-35-be07e562ebf7>\u001b[0m in \u001b[0;36mcalculator\u001b[0;34m()\u001b[0m\n\u001b[1;32m     55\u001b[0m \u001b[0;34m\u001b[0m\u001b[0m\n\u001b[1;32m     56\u001b[0m             \u001b[0;31m# Ask if the user wants to perform another calculation\u001b[0m\u001b[0;34m\u001b[0m\u001b[0;34m\u001b[0m\u001b[0m\n\u001b[0;32m---> 57\u001b[0;31m             \u001b[0manother_calculation\u001b[0m \u001b[0;34m=\u001b[0m \u001b[0minput\u001b[0m\u001b[0;34m(\u001b[0m\u001b[0;34m\"Do you want to perform another calculation? (yes/no): \"\u001b[0m\u001b[0;34m)\u001b[0m\u001b[0;34m.\u001b[0m\u001b[0mlower\u001b[0m\u001b[0;34m(\u001b[0m\u001b[0;34m)\u001b[0m\u001b[0;34m\u001b[0m\u001b[0;34m\u001b[0m\u001b[0m\n\u001b[0m\u001b[1;32m     58\u001b[0m             \u001b[0;32mif\u001b[0m \u001b[0manother_calculation\u001b[0m \u001b[0;34m!=\u001b[0m \u001b[0;34m\"yes\"\u001b[0m\u001b[0;34m:\u001b[0m\u001b[0;34m\u001b[0m\u001b[0;34m\u001b[0m\u001b[0m\n\u001b[1;32m     59\u001b[0m                 \u001b[0;32mbreak\u001b[0m\u001b[0;34m\u001b[0m\u001b[0;34m\u001b[0m\u001b[0m\n",
            "\u001b[0;32m/usr/local/lib/python3.10/dist-packages/ipykernel/kernelbase.py\u001b[0m in \u001b[0;36mraw_input\u001b[0;34m(self, prompt)\u001b[0m\n\u001b[1;32m    849\u001b[0m                 \u001b[0;34m\"raw_input was called, but this frontend does not support input requests.\"\u001b[0m\u001b[0;34m\u001b[0m\u001b[0;34m\u001b[0m\u001b[0m\n\u001b[1;32m    850\u001b[0m             )\n\u001b[0;32m--> 851\u001b[0;31m         return self._input_request(str(prompt),\n\u001b[0m\u001b[1;32m    852\u001b[0m             \u001b[0mself\u001b[0m\u001b[0;34m.\u001b[0m\u001b[0m_parent_ident\u001b[0m\u001b[0;34m,\u001b[0m\u001b[0;34m\u001b[0m\u001b[0;34m\u001b[0m\u001b[0m\n\u001b[1;32m    853\u001b[0m             \u001b[0mself\u001b[0m\u001b[0;34m.\u001b[0m\u001b[0m_parent_header\u001b[0m\u001b[0;34m,\u001b[0m\u001b[0;34m\u001b[0m\u001b[0;34m\u001b[0m\u001b[0m\n",
            "\u001b[0;32m/usr/local/lib/python3.10/dist-packages/ipykernel/kernelbase.py\u001b[0m in \u001b[0;36m_input_request\u001b[0;34m(self, prompt, ident, parent, password)\u001b[0m\n\u001b[1;32m    893\u001b[0m             \u001b[0;32mexcept\u001b[0m \u001b[0mKeyboardInterrupt\u001b[0m\u001b[0;34m:\u001b[0m\u001b[0;34m\u001b[0m\u001b[0;34m\u001b[0m\u001b[0m\n\u001b[1;32m    894\u001b[0m                 \u001b[0;31m# re-raise KeyboardInterrupt, to truncate traceback\u001b[0m\u001b[0;34m\u001b[0m\u001b[0;34m\u001b[0m\u001b[0m\n\u001b[0;32m--> 895\u001b[0;31m                 \u001b[0;32mraise\u001b[0m \u001b[0mKeyboardInterrupt\u001b[0m\u001b[0;34m(\u001b[0m\u001b[0;34m\"Interrupted by user\"\u001b[0m\u001b[0;34m)\u001b[0m \u001b[0;32mfrom\u001b[0m \u001b[0;32mNone\u001b[0m\u001b[0;34m\u001b[0m\u001b[0;34m\u001b[0m\u001b[0m\n\u001b[0m\u001b[1;32m    896\u001b[0m             \u001b[0;32mexcept\u001b[0m \u001b[0mException\u001b[0m \u001b[0;32mas\u001b[0m \u001b[0me\u001b[0m\u001b[0;34m:\u001b[0m\u001b[0;34m\u001b[0m\u001b[0;34m\u001b[0m\u001b[0m\n\u001b[1;32m    897\u001b[0m                 \u001b[0mself\u001b[0m\u001b[0;34m.\u001b[0m\u001b[0mlog\u001b[0m\u001b[0;34m.\u001b[0m\u001b[0mwarning\u001b[0m\u001b[0;34m(\u001b[0m\u001b[0;34m\"Invalid Message:\"\u001b[0m\u001b[0;34m,\u001b[0m \u001b[0mexc_info\u001b[0m\u001b[0;34m=\u001b[0m\u001b[0;32mTrue\u001b[0m\u001b[0;34m)\u001b[0m\u001b[0;34m\u001b[0m\u001b[0;34m\u001b[0m\u001b[0m\n",
            "\u001b[0;31mKeyboardInterrupt\u001b[0m: Interrupted by user"
          ]
        }
      ]
    },
    {
      "cell_type": "code",
      "source": [
        "operations = {\n",
        "    '+': add,\n",
        "    '-': subtract,\n",
        "    '*': multiply,\n",
        "    '/': divide,\n",
        "}\n",
        "\n",
        "operator = input(\"Enter operator (+, -, *, /) or 'C' to clear result: \")\n",
        "\n",
        "result = operations[operator]\n",
        "\n",
        "print(result)\n",
        "\n",
        "\n"
      ],
      "metadata": {
        "colab": {
          "base_uri": "https://localhost:8080/"
        },
        "id": "9iHC35EbZM89",
        "outputId": "ca1d8008-23cd-44a9-ebb5-ccfd38749867"
      },
      "execution_count": null,
      "outputs": [
        {
          "output_type": "stream",
          "name": "stdout",
          "text": [
            "Enter operator (+, -, *, /) or 'C' to clear result: -\n",
            "<function subtract at 0x7abaedadc310>\n"
          ]
        }
      ]
    }
  ]
}