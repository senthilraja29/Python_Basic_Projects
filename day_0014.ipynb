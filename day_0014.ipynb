{
  "nbformat": 4,
  "nbformat_minor": 0,
  "metadata": {
    "colab": {
      "provenance": []
    },
    "kernelspec": {
      "name": "python3",
      "display_name": "Python 3"
    },
    "language_info": {
      "name": "python"
    }
  },
  "cells": [
    {
      "cell_type": "markdown",
      "source": [
        "**Higher vs Lower**"
      ],
      "metadata": {
        "id": "5QHEEGJzYFu9"
      }
    },
    {
      "cell_type": "code",
      "source": [
        "# In this project we get the output for dictionary values and find higher or lower...\n",
        "\n",
        "import random\n",
        "\n",
        "def get_shop_list():\n",
        "    shop_names = [\"Store1\", \"Mart2\", \"SuperMart\", \"FashionZone\", \"ElectronicsHub\",\n",
        "                  \"BookHaven\", \"GourmetGrocery\", \"HomeDecorEmporium\", \"SportsEmpire\",\n",
        "                  \"TechBoutique\", \"PetParadise\", \"KidsCorner\", \"JewelCraft\",\n",
        "                  \"FurnitureGallery\", \"HealthHub\", \"GardenGrove\", \"AutoZone\",\n",
        "                  \"BeautyBoutique\", \"WineWorld\", \"CoffeeCorner\", \"FitnessHub\",\n",
        "                  \"ArtisanBakery\", \"CraftySupplies\", \"OutdoorAdventure\",\n",
        "                  \"SmartPhonesPlus\", \"HomeAppliancesHub\", \"ToyWorld\", \"StationeryShop\",\n",
        "                  \"OrganicGrocery\", \"LuxuryWatches\", \"CarCareCenter\", \"LingerieLand\",\n",
        "                  \"TechGadgetsStore\", \"IceCreamParlor\", \"BikeShop\", \"CraftBeerCorner\",\n",
        "                  \"HomeTheaterHaven\", \"VintageVinyl\", \"TravelGearZone\", \"StationeryCorner\",\n",
        "                  \"PetSuppliesMart\", \"DesignerFashion\", \"ArtGallery\", \"DIYCraftsShop\",\n",
        "                  \"SmoothieBar\"]\n",
        "\n",
        "    return {shop_name: {'turnover': random.randint(50000, 150000)} for shop_name in shop_names}\n",
        "\n",
        "def print_shop(turnover, shop_name):\n",
        "    print(f\"Turnover of {shop_name}: {turnover}\")\n",
        "\n",
        "def compare_shops(shop_A, shop_B, score):\n",
        "    # Show turnover and shop name for both shops\n",
        "    print_shop(shop_A['turnover'], selected_shop_A[0])\n",
        "    print_shop(\"-----\", selected_shop_B[0])\n",
        "\n",
        "    user_input = input(\"\\nEnter 'h' if Shop B has a higher turnover, 'l' if lower, or 'e' if equal: \").lower()\n",
        "\n",
        "    if user_input == 'h' and shop_B['turnover'] > shop_A['turnover']:\n",
        "        print(f\"Correct! Shop B has a higher turnover: {shop_B['turnover']}\")\n",
        "        score += 1\n",
        "    elif user_input == 'l' and shop_B['turnover'] < shop_A['turnover']:\n",
        "        print(f\"Correct! Shop B has a lower turnover: {shop_B['turnover']}\")\n",
        "        score += 1\n",
        "    elif user_input == 'e' and shop_B['turnover'] == shop_A['turnover']:\n",
        "        print(f\"Correct! Both shops have the same turnover: {shop_B['turnover']}\")\n",
        "        score += 1\n",
        "    else:\n",
        "        print(\"Incorrect!\")\n",
        "        score -= 1\n",
        "\n",
        "    return score\n",
        "\n",
        "score = 0\n",
        "shops_A = []\n",
        "shops_B = {}\n",
        "\n",
        "while True:\n",
        "    # Randomly select a new shop for Shop A\n",
        "    selected_shop_A = random.choice(list(get_shop_list().items()))\n",
        "\n",
        "    # Store the previous Shop B details in Shop A\n",
        "    if shops_A:\n",
        "        shops_A[-1] = (shops_A[-1][0], selected_shop_A[1])\n",
        "\n",
        "    # Randomly select a new shop for Shop B\n",
        "    selected_shop_B = random.choice(list(get_shop_list().items()))\n",
        "\n",
        "    # Compare turnovers and update score\n",
        "    score = compare_shops(selected_shop_A[1], selected_shop_B[1], score)\n",
        "    print(f\"Current Score: {score}\")\n",
        "\n",
        "    # Store the Shop B details\n",
        "    shops_A.append(selected_shop_B)\n",
        "\n",
        "    # Check if the user wants to continue\n",
        "    continue_command = input(\"Enter 'continue' to get new shops, or press Enter to exit: \")\n",
        "    if continue_command.lower() != 'continue':\n",
        "      break\n",
        "\n"
      ],
      "metadata": {
        "colab": {
          "base_uri": "https://localhost:8080/"
        },
        "id": "L35SDiSMta3m",
        "outputId": "32734fe0-1fce-4e72-ec01-4f496c62c427"
      },
      "execution_count": null,
      "outputs": [
        {
          "name": "stdout",
          "output_type": "stream",
          "text": [
            "Turnover of WineWorld: 127381\n",
            "Turnover of KidsCorner: -----\n",
            "\n",
            "Enter 'h' if Shop B has a higher turnover, 'l' if lower, or 'e' if equal: l\n",
            "Correct! Shop B has a lower turnover: 54075\n",
            "Current Score: 1\n",
            "Enter 'continue' to get new shops, or press Enter to exit: continue\n",
            "Turnover of FitnessHub: 104211\n",
            "Turnover of SmartPhonesPlus: -----\n",
            "\n",
            "Enter 'h' if Shop B has a higher turnover, 'l' if lower, or 'e' if equal: e\n",
            "Incorrect!\n",
            "Current Score: 0\n",
            "Enter 'continue' to get new shops, or press Enter to exit: \n"
          ]
        }
      ]
    },
    {
      "cell_type": "code",
      "source": [],
      "metadata": {
        "id": "fWFGO2unBpHf"
      },
      "execution_count": null,
      "outputs": []
    }
  ]
}