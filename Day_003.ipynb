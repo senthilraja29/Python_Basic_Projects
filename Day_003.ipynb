{
  "nbformat": 4,
  "nbformat_minor": 0,
  "metadata": {
    "colab": {
      "provenance": []
    },
    "kernelspec": {
      "name": "python3",
      "display_name": "Python 3"
    },
    "language_info": {
      "name": "python"
    }
  },
  "cells": [
    {
      "cell_type": "markdown",
      "source": [
        "**Logical Operations**"
      ],
      "metadata": {
        "id": "obk6jmWI0oY9"
      }
    },
    {
      "cell_type": "code",
      "execution_count": null,
      "metadata": {
        "colab": {
          "base_uri": "https://localhost:8080/"
        },
        "id": "iJU9CUJ-wg4y",
        "outputId": "30767dba-516d-4b89-9643-0b74be84f23f"
      },
      "outputs": [
        {
          "output_type": "stream",
          "name": "stdout",
          "text": [
            "Welcome to Tamilnadu Online Transport Service\n",
            "\n",
            " .-------------------------------------------------------------.\n",
            "'------..-------------..----------..----------..----------..--.|\n",
            "|       \\            ||          ||          ||          ||  ||\n",
            "|        \\           ||          ||          ||          ||  ||\n",
            "|    ..   ||  _    _  ||    _   _ || _    _   ||    _    _||  ||\n",
            "|    ||   || //   //  ||   //  // ||//   //   ||   //   //|| /||\n",
            "|_.------\"''----------''----------''----------''----------''--'|\n",
            " |)|      |       |       |       |    |   Bhasha|      ||==|  |\n",
            " | |      |  _-_  |       |       |    |  .-.    |      ||==| C|\n",
            " | |  __  |.'.-.' |   _   |   _   |    |.'.-.'.  |  __  | \"__=='\n",
            " '---------'|( )|'----------------------'|( )|'----------\"\"\n",
            "             '-'                          '-'\n",
            "\n",
            "Kindly choose your from Location Chennai\n",
            "Kindly choose your reach destination Salem , Tiruchendur, Madanapalle Salem\n",
            "Welcome to Salem District Transport\n",
            "Choose the bus type AC_Sleeper, Non_AC_Sleeper, Delux_Semi_Sleeper Non_AC_Sleeper\n",
            "Non_AC_Sleeper  cost is 550 Rs\n",
            "Do You agree to travel type Y/N ?Y\n",
            "Thanks for choosing Non_AC_Sleeper at Salem transport Services. Happy Journey \n"
          ]
        }
      ],
      "source": [
        "\"\"\"\n",
        "if/nestedif/elif\n",
        "\n",
        "based on this conditions\n",
        "\n",
        "<,>,==,!=,<=,>=\n",
        "\n",
        "\"\"\"\n",
        "\n",
        "print(\"Welcome to Tamilnadu Online Transport Service\")\n",
        "\n",
        "print(\"\"\"\n",
        " .-------------------------------------------------------------.\n",
        "'------..-------------..----------..----------..----------..--.|\n",
        "|       \\\\            ||          ||          ||          ||  ||\n",
        "|        \\\\           ||          ||          ||          ||  ||\n",
        "|    ..   ||  _    _  ||    _   _ || _    _   ||    _    _||  ||\n",
        "|    ||   || //   //  ||   //  // ||//   //   ||   //   //|| /||\n",
        "|_.------\"''----------''----------''----------''----------''--'|\n",
        " |)|      |       |       |       |    |   Bhasha|      ||==|  |\n",
        " | |      |  _-_  |       |       |    |  .-.    |      ||==| C|\n",
        " | |  __  |.'.-.' |   _   |   _   |    |.'.-.'.  |  __  | \"__=='\n",
        " '---------'|( )|'----------------------'|( )|'----------\"\"\n",
        "             '-'                          '-'\n",
        "\"\"\")\n",
        "\n",
        "\n",
        "\n",
        "From = str(input(\"Kindly choose your from Location \"))\n",
        "\n",
        "To = str(input(\"Kindly choose your reach destination Salem , Tiruchendur, Madanapalle \"))\n",
        "\n",
        "if To == \"Salem\" :\n",
        "  print(\"Welcome to Salem District Transport\")\n",
        "  Bus_type = str(input(\"Choose the bus type AC_Sleeper, Non_AC_Sleeper, Delux_Semi_Sleeper \"))\n",
        "  if Bus_type == \"AC_Sleeper\" :\n",
        "    print(\"AC_Sleeper cost is 700 Rs\")\n",
        "    AC_prize = str(input(\"Do You agree to travel type Y/N ?\"))\n",
        "    if AC_prize == \"Y\" :\n",
        "      print(\"Thanks for choosing AC_Sleepr at Salem transport Services. Happy Journey \")\n",
        "    elif AC_prize == \"N\" :\n",
        "      print(\"Sorry for inconvience. Kindly Choose other transport services\")\n",
        "    else :\n",
        "      print(\"Kinldy choose right options\")\n",
        "  elif Bus_type == \"Non_AC_Sleeper\" :\n",
        "    print(\"Non_AC_Sleeper  cost is 550 Rs\")\n",
        "    Non_AC_prize = str(input(\"Do You agree to travel type Y/N ?\"))\n",
        "    if Non_AC_prize == \"Y\" :\n",
        "      print(\"Thanks for choosing Non_AC_Sleeper at Salem transport Services. Happy Journey \")\n",
        "    elif Non_AC_prize == \"N\" :\n",
        "      print(\"Sorry for inconvience. Kindly Choose other transport services\")\n",
        "    else :\n",
        "      print(\"Kinldy choose right options\")\n",
        "  elif Bus_type == \"Delux_Semi_Sleeper\" :\n",
        "    print(\"Delux_Semi_Sleeper cost is 400 Rs\")\n",
        "    Delux_Semi_Sleeper_prize = str(input(\"Do You agree to travel type Y/N ?\"))\n",
        "    if Delux_Semi_Sleeper_prize == \"Y\" :\n",
        "      print(\"Thanks for choosing Delux_Semi_Sleeper at Salem transport Services. Happy Journey \")\n",
        "    elif Delux_Semi_Sleeper_prize == \"N\" :\n",
        "      print(\"Sorry for inconvience. Kindly Choose other transport services\")\n",
        "    else :\n",
        "      print(\"Kinldy choose right options\")\n",
        "  else :\n",
        "    print(\"Input Wrong And Normal Bus is not available\")\n",
        "\n",
        "elif To == \"Tiruchendur\" :\n",
        "  print(\"Welcome to Tiruchendur District Transport\")\n",
        "  Tiruchendur = str(input(\"Choose the bus type AC_Sleeper, Non_AC_Sleeper\"))\n",
        "  if Tiruchendur == \"AC_Sleeper\" :\n",
        "    print(f\"AC_Sleeper cost is 1000 Rs for {To} travel\")\n",
        "    AC_prize = str(input(\"Do You agree to travel type Y/N ?\"))\n",
        "    if AC_prize == \"Y\" :\n",
        "      print(\"Thanks for choosing AC_Sleepr at Tiruchendur transport Services. Happy Journey \")\n",
        "    elif AC_prize == \"N\" :\n",
        "      print(\"Sorry for inconvience. Kindly Choose other transport services\")\n",
        "    else :\n",
        "      print(\"Kinldy choose right options\")\n",
        "  elif Tiruchendur == \"Non_AC_Sleeper\" :\n",
        "    print(f\"Non_AC_Sleeper cost is 800 Rs for {To} travel\")\n",
        "    Non_AC_prize = str(input(\"Do You agree to travel type Y/N ?\"))\n",
        "    if Non_AC_prize == \"Y\" :\n",
        "      print(\"Thanks for choosing Non_AC_Sleeper at Tiruchendur transport Services. Happy Journey \")\n",
        "    elif Non_AC_prize == \"N\" :\n",
        "      print(\"Sorry for inconvience. Kindly Choose other transport services\")\n",
        "    else :\n",
        "      print(\"Kinldy choose right options\")\n",
        "elif To == \"Madanapalle\" :\n",
        "  print(\"Welcome to Madanapalle Transport\")\n",
        "  Madanapalle = str(input(\"Only Delux_Ac_Semi_Sleeper available. Do you want to contineu Y?N ?\"))\n",
        "  if Madanapalle == \"Y\" :\n",
        "    print(f\"Thanks for choosing Delux_Semi_Sleeper at {To} transport Services. Happy To Meet Bhashaaa\")\n",
        "  elif Tanjavur == \"N\" :\n",
        "    print(\"Sorry for inconvience. Kindly Choose other transport services\")\n",
        "  else :\n",
        "    print(\"Kinldy choose right options\")\n",
        "else :\n",
        "  print(f\"No transport available for this {To} location\")\n",
        "\n",
        "\n",
        "\n"
      ]
    },
    {
      "cell_type": "code",
      "source": [],
      "metadata": {
        "id": "o-2dqEmiGNrG"
      },
      "execution_count": null,
      "outputs": []
    }
  ]
}