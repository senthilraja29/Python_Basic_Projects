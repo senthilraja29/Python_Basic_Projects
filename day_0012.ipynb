{
  "nbformat": 4,
  "nbformat_minor": 0,
  "metadata": {
    "colab": {
      "provenance": []
    },
    "kernelspec": {
      "name": "python3",
      "display_name": "Python 3"
    },
    "language_info": {
      "name": "python"
    }
  },
  "cells": [
    {
      "cell_type": "markdown",
      "source": [
        "**Local vs Global Varibale**"
      ],
      "metadata": {
        "id": "r534RoduAYho"
      }
    },
    {
      "cell_type": "code",
      "execution_count": null,
      "metadata": {
        "id": "tGy48QTWZnuG",
        "colab": {
          "base_uri": "https://localhost:8080/"
        },
        "outputId": "60119d51-5e1b-43cd-d404-cd68f493dbdf"
      },
      "outputs": [
        {
          "output_type": "stream",
          "name": "stdout",
          "text": [
            "3\n"
          ]
        }
      ],
      "source": [
        "win = 2\n",
        "\n",
        "def game():\n",
        "  global win\n",
        "  win += 1\n",
        "  print(win)\n",
        "game()"
      ]
    },
    {
      "cell_type": "markdown",
      "source": [
        "**Number Guessing Game**"
      ],
      "metadata": {
        "id": "dThEWIRM6HRc"
      }
    },
    {
      "cell_type": "code",
      "source": [
        "from random import randint\n",
        "\n",
        "print(\"Welcome to the number guessing game\")\n",
        "thinking = randint(1, 100)\n",
        "print(\"I'm thinking of a number between 1 to 100\")\n",
        "difficult = input(\"Choose the difficulty level (easy or hard): \")\n",
        "attempt = 0\n",
        "\n",
        "def game():\n",
        "\n",
        "    global attempt  # Declare attempt as a global variable\n",
        "\n",
        "    if difficult == \"easy\":\n",
        "        attempt = 10\n",
        "    else:\n",
        "        attempt = 5\n",
        "\n",
        "    while attempt > 0:  # Loop until attempts are exhausted\n",
        "        guessing = int(input(\"Guess the number: \"))\n",
        "\n",
        "        if guessing < thinking:\n",
        "            print(\"Your guess is low\\n\")\n",
        "        elif guessing > thinking:\n",
        "            print(\"Your guess is high\\n\")\n",
        "        elif guessing == thinking:\n",
        "            print(\"You won!\")\n",
        "            break\n",
        "\n",
        "        attempt -= 1\n",
        "        print(f\"You have {attempt} attempts left.\\n\")\n",
        "\n",
        "    if attempt <= 0:\n",
        "        print(\"Game over. The correct number was\", thinking)\n",
        "\n",
        "game()\n"
      ],
      "metadata": {
        "colab": {
          "base_uri": "https://localhost:8080/"
        },
        "id": "wJX1PBcx6K3S",
        "outputId": "155f679c-4a03-4079-99de-ee9278a2bf5c"
      },
      "execution_count": null,
      "outputs": [
        {
          "output_type": "stream",
          "name": "stdout",
          "text": [
            "Welcome to the number guessing game\n",
            "I'm thinking of a number between 1 to 100\n",
            "Choose the difficulty level (easy or hard): hard\n",
            "Guess the number: 50\n",
            "Your guess is low\n",
            "\n",
            "You have 4 attempts left.\n",
            "\n",
            "Guess the number: 65\n",
            "Your guess is low\n",
            "\n",
            "You have 3 attempts left.\n",
            "\n",
            "Guess the number: 79\n",
            "Your guess is high\n",
            "\n",
            "You have 2 attempts left.\n",
            "\n",
            "Guess the number: 75\n",
            "Your guess is high\n",
            "\n",
            "You have 1 attempts left.\n",
            "\n",
            "Guess the number: 70\n",
            "Your guess is low\n",
            "\n",
            "You have 0 attempts left.\n",
            "\n",
            "Game over. The correct number was 74\n"
          ]
        }
      ]
    }
  ]
}