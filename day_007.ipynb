{
  "nbformat": 4,
  "nbformat_minor": 0,
  "metadata": {
    "colab": {
      "provenance": []
    },
    "kernelspec": {
      "name": "python3",
      "display_name": "Python 3"
    },
    "language_info": {
      "name": "python"
    }
  },
  "cells": [
    {
      "cell_type": "markdown",
      "source": [
        "***Hang Man***"
      ],
      "metadata": {
        "id": "ilz0DJBX_Bgb"
      }
    },
    {
      "cell_type": "markdown",
      "source": [
        "*1.User Name Checking Challenge 1*"
      ],
      "metadata": {
        "id": "PRACMykrAWjm"
      }
    },
    {
      "cell_type": "code",
      "execution_count": null,
      "metadata": {
        "colab": {
          "base_uri": "https://localhost:8080/"
        },
        "id": "Fg0V5fC_5ZPK",
        "outputId": "f766f85f-1d19-48e6-e08b-363f0fd9a162"
      },
      "outputs": [
        {
          "output_type": "stream",
          "name": "stdout",
          "text": [
            "Guess the letter in the name :a\n",
            "Wrong\n",
            "Wrong\n",
            "Wrong\n",
            "Right\n",
            "hema\n"
          ]
        }
      ],
      "source": [
        "# Finding letter in the names\n",
        "Names = [\"hema\", \"srilekha\", \"bhavani\", \"glory\"]\n",
        "\n",
        "# Apply Random Conditions\n",
        "import random\n",
        "\n",
        "Random_Name = random.choice(Names)\n",
        "\n",
        "# Guessing Letter\n",
        "Guess = input(\"Guess the letter in the name :\").lower()\n",
        "\n",
        "# Use for loop to identify the letter\n",
        "for G in Random_Name :\n",
        "  if G == Guess:\n",
        "    print(\"Right\")\n",
        "  else:\n",
        "    print(\"Wrong\")\n",
        "\n",
        "# Choosen Name in the Random\n",
        "print(Random_Name)"
      ]
    },
    {
      "cell_type": "markdown",
      "source": [
        "**2.User Name Checking Challenge 2**\n",
        "\n",
        "> Indented block\n",
        "\n"
      ],
      "metadata": {
        "id": "WxMUusB9ESrA"
      }
    },
    {
      "cell_type": "code",
      "source": [
        "# Finding letter in the names\n",
        "Names = [\"deivam\"]\n",
        "\n",
        "# Apply Random Conditions\n",
        "import random\n",
        "\n",
        "Random_Name = random.choice(Names)\n",
        "\n",
        "\n",
        "\n",
        "# break down the word\n",
        "Splitting_Random_Name = list(Random_Name)\n",
        "\n",
        "\n",
        "display = []\n",
        "# Use for loop to identify the letter\n",
        "for G in range(len(Random_Name)) :\n",
        "  display += \"_\"\n",
        "print(display)\n",
        "\n",
        "# Guessing Letter\n",
        "Guess = input(str(\"Guess the letter in the name :\")).lower()\n",
        "\n",
        "# Replace the position of the words\n",
        "# Choosen Name in the Random\n",
        "print(Splitting_Random_Name)\n",
        "\n",
        "for position in range(len(Random_Name)) :\n",
        "  letter = Random_Name[position]\n",
        "  if letter == Guess :\n",
        "      display[position] = letter\n",
        "print(display)"
      ],
      "metadata": {
        "colab": {
          "base_uri": "https://localhost:8080/"
        },
        "id": "M7dRFaXcEXCi",
        "outputId": "88547ab9-68e4-444a-e1d9-156c79f4d81e"
      },
      "execution_count": null,
      "outputs": [
        {
          "output_type": "stream",
          "name": "stdout",
          "text": [
            "['_', '_', '_', '_', '_', '_']\n",
            "Guess the letter in the name :a\n",
            "['d', 'e', 'i', 'v', 'a', 'm']\n",
            "a\n",
            "['_', '_', '_', '_', 'a', '_']\n"
          ]
        }
      ]
    },
    {
      "cell_type": "markdown",
      "source": [
        "**3.User Name Checking Challenge 3**"
      ],
      "metadata": {
        "id": "HQqceZqTyl60"
      }
    },
    {
      "cell_type": "markdown",
      "source": [
        "**Aschii chart**"
      ],
      "metadata": {
        "id": "3Fely1il17G3"
      }
    },
    {
      "cell_type": "code",
      "source": [
        "hangman = (\n",
        "    \"\"\"\n",
        "   _________\n",
        "    |/   |\n",
        "    |   (_)\n",
        "    |    |\n",
        "    |\n",
        "    |\n",
        "    |\n",
        "    |___\n",
        "    HA\"\"\",\n",
        "    \"\"\"\n",
        "   ________\n",
        "    |/   |\n",
        "    |   (_)\n",
        "    |    |\n",
        "    |    |\n",
        "    |\n",
        "    |\n",
        "    |___\n",
        "    HAN\"\"\",\n",
        "    \"\"\"\n",
        "   _________\n",
        "    |/   |\n",
        "    |   (_)\n",
        "    |   /|\n",
        "    |    |\n",
        "    |\n",
        "    |\n",
        "    |___\n",
        "    HANG\"\"\",\n",
        "    \"\"\"\n",
        "   _________\n",
        "    |/   |\n",
        "    |   (_)\n",
        "    |   /|\\\n",
        "    |    |\n",
        "    |\n",
        "    |\n",
        "    |___\n",
        "    HANGM\"\"\",\n",
        "    \"\"\"\n",
        "   ________\n",
        "    |/   |\n",
        "    |   (_)\n",
        "    |   /|\\\n",
        "    |    |\n",
        "    |  / \\\n",
        "    |\n",
        "    |___\n",
        "    HANGMAN\"\"\"\n",
        ")\n",
        "\n",
        "word_list = [ \"constitution\",\n",
        "    \"parliament\",\n",
        "    \"judiciary\",\n",
        "    \"legislation\",\n",
        "    \"amendment\",\n",
        "    \"fundamentalrights\",\n",
        "    \"directiveprinciples\",\n",
        "    \"president\",\n",
        "    \"governor\",\n",
        "    \"chiefminister\",\n",
        "    \"memberofparliament\",\n",
        "    \"memberoflegislativeassembly\",\n",
        "    \"supremecourt\",\n",
        "    \"highcourt\",\n",
        "    \"districtcourt\",\n",
        "    \"criminallaw\",\n",
        "    \"civillaw\",\n",
        "    \"criminalprocedurecode\",\n",
        "    \"civilprocedurecode\",\n",
        "    \"evidenceact\",\n",
        "    \"indianpenalcode\",\n",
        "    \"familylaw\",\n",
        "    \"propertylaw\",\n",
        "    \"contractlaw\",\n",
        "    \"torts\",\n",
        "    \"legalaid\",\n",
        "    \"publicinterestlitigation\",\n",
        "    \"writs\",\n",
        "    \"adjudication\",\n",
        "    \"bench\",\n",
        "    \"bar\",\n",
        "    \"advocate\",\n",
        "    \"barrister\",\n",
        "    \"notary\",\n",
        "    \"oath\",\n",
        "    \"affidavit\",\n",
        "    \"caveat\",\n",
        "    \"decree\",\n",
        "    \"injunction\",\n",
        "    \"interpretation\",\n",
        "    \"legalresearch\",\n",
        "    \"mootcourt\",\n",
        "    \"legalarticle\",\n",
        "    \"legalprecedent\",\n",
        "    \"custodialdeath\",\n",
        "    \"tribunal\",\n",
        "    \"conveyance\",\n",
        "    \"criminaljusticesystem\",\n",
        "    \"landacquisitionact\",\n",
        "    \"righttoinformation\"]\n"
      ],
      "metadata": {
        "id": "cfcAvsmC5L_L"
      },
      "execution_count": null,
      "outputs": []
    },
    {
      "cell_type": "code",
      "source": [
        "import random\n",
        "\n",
        "A = random.choice(word_list)\n",
        "a = [\"_\"] * len(A)\n",
        "\n",
        "print(a)\n",
        "\n",
        "end_of_game = False\n",
        "life = 5\n",
        "\n",
        "while life > 0 and not end_of_game:\n",
        "    Hint = a\n",
        "\n",
        "    B = input(\"\\nEnter the Guessing word: \")\n",
        "\n",
        "    if B in A:\n",
        "        for i in range(len(A)):\n",
        "            if B == A[i]:\n",
        "                a[i] = B\n",
        "        print(\"Correct Guess!\")\n",
        "    else:\n",
        "        print(\"Wrong Guess! Lives left:\", life)\n",
        "        hint_indices = [i for i, letter in enumerate(A) if letter != ' ']\n",
        "        hint_letter_index = random.choice(hint_indices)\n",
        "        a[hint_letter_index] = A[hint_letter_index]\n",
        "        print(\"Hint:\", ' '.join(a))\n",
        "\n",
        "        life -= 1\n",
        "\n",
        "    print(\"Guessing Word:\", ' '.join(a))\n",
        "\n",
        "    if '_' not in a:\n",
        "        end_of_game = True\n",
        "        print(\"\\nCongratulations! You guessed the word.\")\n",
        "    if life == 0:\n",
        "        print(f\"Game Over... Correct word is ### {A} ###\")\n"
      ],
      "metadata": {
        "colab": {
          "base_uri": "https://localhost:8080/",
          "height": 706
        },
        "id": "b5FFHKy0gfas",
        "outputId": "59732816-3f6e-4527-e253-26297528da00"
      },
      "execution_count": null,
      "outputs": [
        {
          "output_type": "stream",
          "name": "stdout",
          "text": [
            "['_', '_', '_', '_', '_', '_', '_', '_', '_', '_', '_', '_']\n",
            "\n",
            "Enter the Guessing word: t\n",
            "Correct Guess!\n",
            "Guessing Word: _ _ _ _ t _ t _ t _ _ _\n",
            "\n",
            "Enter the Guessing word: i\n",
            "Correct Guess!\n",
            "Guessing Word: _ _ _ _ t i t _ t i _ _\n",
            "\n",
            "Enter the Guessing word: c\n",
            "Correct Guess!\n",
            "Guessing Word: c _ _ _ t i t _ t i _ _\n",
            "\n",
            "Enter the Guessing word: n\n",
            "Correct Guess!\n",
            "Guessing Word: c _ n _ t i t _ t i _ n\n"
          ]
        },
        {
          "output_type": "error",
          "ename": "KeyboardInterrupt",
          "evalue": "Interrupted by user",
          "traceback": [
            "\u001b[0;31m---------------------------------------------------------------------------\u001b[0m",
            "\u001b[0;31mKeyboardInterrupt\u001b[0m                         Traceback (most recent call last)",
            "\u001b[0;32m<ipython-input-12-405537515bb1>\u001b[0m in \u001b[0;36m<cell line: 11>\u001b[0;34m()\u001b[0m\n\u001b[1;32m     12\u001b[0m     \u001b[0mHint\u001b[0m \u001b[0;34m=\u001b[0m \u001b[0ma\u001b[0m\u001b[0;34m\u001b[0m\u001b[0;34m\u001b[0m\u001b[0m\n\u001b[1;32m     13\u001b[0m \u001b[0;34m\u001b[0m\u001b[0m\n\u001b[0;32m---> 14\u001b[0;31m     \u001b[0mB\u001b[0m \u001b[0;34m=\u001b[0m \u001b[0minput\u001b[0m\u001b[0;34m(\u001b[0m\u001b[0;34m\"\\nEnter the Guessing word: \"\u001b[0m\u001b[0;34m)\u001b[0m\u001b[0;34m\u001b[0m\u001b[0;34m\u001b[0m\u001b[0m\n\u001b[0m\u001b[1;32m     15\u001b[0m \u001b[0;34m\u001b[0m\u001b[0m\n\u001b[1;32m     16\u001b[0m     \u001b[0;32mif\u001b[0m \u001b[0mB\u001b[0m \u001b[0;32min\u001b[0m \u001b[0mA\u001b[0m\u001b[0;34m:\u001b[0m\u001b[0;34m\u001b[0m\u001b[0;34m\u001b[0m\u001b[0m\n",
            "\u001b[0;32m/usr/local/lib/python3.10/dist-packages/ipykernel/kernelbase.py\u001b[0m in \u001b[0;36mraw_input\u001b[0;34m(self, prompt)\u001b[0m\n\u001b[1;32m    849\u001b[0m                 \u001b[0;34m\"raw_input was called, but this frontend does not support input requests.\"\u001b[0m\u001b[0;34m\u001b[0m\u001b[0;34m\u001b[0m\u001b[0m\n\u001b[1;32m    850\u001b[0m             )\n\u001b[0;32m--> 851\u001b[0;31m         return self._input_request(str(prompt),\n\u001b[0m\u001b[1;32m    852\u001b[0m             \u001b[0mself\u001b[0m\u001b[0;34m.\u001b[0m\u001b[0m_parent_ident\u001b[0m\u001b[0;34m,\u001b[0m\u001b[0;34m\u001b[0m\u001b[0;34m\u001b[0m\u001b[0m\n\u001b[1;32m    853\u001b[0m             \u001b[0mself\u001b[0m\u001b[0;34m.\u001b[0m\u001b[0m_parent_header\u001b[0m\u001b[0;34m,\u001b[0m\u001b[0;34m\u001b[0m\u001b[0;34m\u001b[0m\u001b[0m\n",
            "\u001b[0;32m/usr/local/lib/python3.10/dist-packages/ipykernel/kernelbase.py\u001b[0m in \u001b[0;36m_input_request\u001b[0;34m(self, prompt, ident, parent, password)\u001b[0m\n\u001b[1;32m    893\u001b[0m             \u001b[0;32mexcept\u001b[0m \u001b[0mKeyboardInterrupt\u001b[0m\u001b[0;34m:\u001b[0m\u001b[0;34m\u001b[0m\u001b[0;34m\u001b[0m\u001b[0m\n\u001b[1;32m    894\u001b[0m                 \u001b[0;31m# re-raise KeyboardInterrupt, to truncate traceback\u001b[0m\u001b[0;34m\u001b[0m\u001b[0;34m\u001b[0m\u001b[0m\n\u001b[0;32m--> 895\u001b[0;31m                 \u001b[0;32mraise\u001b[0m \u001b[0mKeyboardInterrupt\u001b[0m\u001b[0;34m(\u001b[0m\u001b[0;34m\"Interrupted by user\"\u001b[0m\u001b[0;34m)\u001b[0m \u001b[0;32mfrom\u001b[0m \u001b[0;32mNone\u001b[0m\u001b[0;34m\u001b[0m\u001b[0;34m\u001b[0m\u001b[0m\n\u001b[0m\u001b[1;32m    896\u001b[0m             \u001b[0;32mexcept\u001b[0m \u001b[0mException\u001b[0m \u001b[0;32mas\u001b[0m \u001b[0me\u001b[0m\u001b[0;34m:\u001b[0m\u001b[0;34m\u001b[0m\u001b[0;34m\u001b[0m\u001b[0m\n\u001b[1;32m    897\u001b[0m                 \u001b[0mself\u001b[0m\u001b[0;34m.\u001b[0m\u001b[0mlog\u001b[0m\u001b[0;34m.\u001b[0m\u001b[0mwarning\u001b[0m\u001b[0;34m(\u001b[0m\u001b[0;34m\"Invalid Message:\"\u001b[0m\u001b[0;34m,\u001b[0m \u001b[0mexc_info\u001b[0m\u001b[0;34m=\u001b[0m\u001b[0;32mTrue\u001b[0m\u001b[0;34m)\u001b[0m\u001b[0;34m\u001b[0m\u001b[0;34m\u001b[0m\u001b[0m\n",
            "\u001b[0;31mKeyboardInterrupt\u001b[0m: Interrupted by user"
          ]
        }
      ]
    }
  ]
}
