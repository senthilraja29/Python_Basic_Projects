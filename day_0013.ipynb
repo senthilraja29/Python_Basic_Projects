{
  "nbformat": 4,
  "nbformat_minor": 0,
  "metadata": {
    "colab": {
      "provenance": []
    },
    "kernelspec": {
      "name": "python3",
      "display_name": "Python 3"
    },
    "language_info": {
      "name": "python"
    }
  },
  "cells": [
    {
      "cell_type": "code",
      "execution_count": null,
      "metadata": {
        "colab": {
          "base_uri": "https://localhost:8080/"
        },
        "id": "5vMK1BzRRNRc",
        "outputId": "aa9ee22a-a51f-40b1-9a07-1f9addab70ab"
      },
      "outputs": [
        {
          "output_type": "stream",
          "name": "stdout",
          "text": [
            "Enter a year: 2014\n",
            "2014 is not a leap year.\n"
          ]
        }
      ],
      "source": [
        "def is_leap_year(year):\n",
        "    if (year % 4 == 0 and year % 100 != 0) or (year % 400 == 0):\n",
        "        return True\n",
        "    else:\n",
        "        return False\n",
        "\n",
        "# Get user input for the year\n",
        "year_input = int(input(\"Enter a year: \"))\n",
        "\n",
        "# Check if the entered year is a leap year\n",
        "if is_leap_year(year_input):\n",
        "    print(f\"{year_input} is a leap year.\")\n",
        "else:\n",
        "    print(f\"{year_input} is not a leap year.\")\n"
      ]
    }
  ]
}