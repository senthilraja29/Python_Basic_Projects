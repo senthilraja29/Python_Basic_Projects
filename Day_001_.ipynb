{
  "nbformat": 4,
  "nbformat_minor": 0,
  "metadata": {
    "colab": {
      "provenance": []
    },
    "kernelspec": {
      "name": "python3",
      "display_name": "Python 3"
    },
    "language_info": {
      "name": "python"
    }
  },
  "cells": [
    {
      "cell_type": "markdown",
      "source": [
        "Project_001 **Shop Name Deciding**"
      ],
      "metadata": {
        "id": "HjHDSVhG2UJj"
      }
    },
    {
      "cell_type": "code",
      "execution_count": null,
      "metadata": {
        "colab": {
          "base_uri": "https://localhost:8080/"
        },
        "id": "nsjGuX9VvXv1",
        "outputId": "86e8410e-044b-4c04-edbc-c27b10ec51cf"
      },
      "outputs": [
        {
          "output_type": "stream",
          "name": "stdout",
          "text": [
            "Welcome to Name Deciding Zoon\n",
            "What's your favourite receipe \n",
            "Dosa\n",
            "What's your favorite person \n",
            "Amma\n",
            "Your Shop Name will be AmmaDosa\n"
          ]
        }
      ],
      "source": [
        "print(\"Welcome to Name Deciding Zoon\")\n",
        "\n",
        "first_name = input(str(\"What's your favourite receipe \\n\"))\n",
        "\n",
        "second_name = input(str(\"What's your favorite person \\n\"))\n",
        "\n",
        "Decide_Name = (second_name+first_name)\n",
        "\n",
        "print(\"Your Shop Name will be \" + Decide_Name)"
      ]
    },
    {
      "cell_type": "markdown",
      "source": [
        "Project_002 **Wedding Invitation**"
      ],
      "metadata": {
        "id": "PmSShJ6Q3PDS"
      }
    },
    {
      "cell_type": "code",
      "source": [
        "print(\"Happy to Announce the Wedding Peoples\")\n",
        "\n",
        "Boy_name = input(str()+ \"is the girl name \\n\")\n",
        "\n",
        "Girl_name = input(str()+ \"is the boy name \\n\")\n",
        "\n",
        "mingle = Girl_name + Boy_name\n",
        "\n",
        "print (\"This friday the couples \" +mingle+ \" marriage on the shivan Temple \")\n",
        "\n",
        "print(\"We warm welcome to every one and bless the couples \" + mingle)\n",
        "\n"
      ],
      "metadata": {
        "colab": {
          "base_uri": "https://localhost:8080/"
        },
        "id": "Wg_5qSMzz_Uw",
        "outputId": "b2710fd4-5955-4491-e6fe-3f177345b504"
      },
      "execution_count": null,
      "outputs": [
        {
          "output_type": "stream",
          "name": "stdout",
          "text": [
            "Happy to Announce the Wedding Peoples\n",
            "is the girl name \n",
            "Santhi\n",
            "is the boy name \n",
            "Kumarapathi \n",
            "This friday the couples Kumarapathi Santhi marriage on the shivan Temple \n",
            "We warm welcome to every one and bless the couples Kumarapathi Santhi\n"
          ]
        }
      ]
    },
    {
      "cell_type": "markdown",
      "source": [
        "project_003 **Waiting for Bus**"
      ],
      "metadata": {
        "id": "ZOCXtjqP6HLW"
      }
    },
    {
      "cell_type": "code",
      "source": [
        "print(\"Hey Hi How can i Help you ?\")\n",
        "Response_01 = input()\n",
        "print(\"How Long will you waiting for this bus stop\")\n",
        "Response_02 = int(input((\"Mentioned in Mintes \\n\")))\n",
        "print(\"Oh My God Really are you waiting for \" + str(Response_02) + \" Minutes\")\n"
      ],
      "metadata": {
        "colab": {
          "base_uri": "https://localhost:8080/"
        },
        "id": "M5gBjYWU6WJm",
        "outputId": "f73032f6-45e6-4101-a7c8-34d0dd8e208a"
      },
      "execution_count": null,
      "outputs": [
        {
          "output_type": "stream",
          "name": "stdout",
          "text": [
            "Hey Hi How can i Help you ?\n",
            "I'm waiting for the Bus\n",
            "How Long will you waiting for this bus stop\n",
            "Mentioned in Mintes \n",
            "25\n",
            "Oh My God Really are you waiting for 25 Minutes\n"
          ]
        }
      ]
    },
    {
      "cell_type": "markdown",
      "source": [
        "project_004  **Resturant food iteams**"
      ],
      "metadata": {
        "id": "Awdt5dlx_Kb2"
      }
    },
    {
      "cell_type": "code",
      "source": [
        "print(\"We happy to welcome our food court area \\nWhat do you want to eat now?\")\n",
        "input()\n",
        "print(\"We almost going to close the resturant only limited items available\")\n",
        "input()\n",
        "print(\"only dosa and idly dood iteams available\")\n",
        "Ordered = input(str)\n",
        "print(\"Your order has beed picked \" + Ordered + \" within 3 mints it will serve you \\n Thanks for visiting have a nice day\")\n",
        "\n",
        "\n"
      ],
      "metadata": {
        "colab": {
          "base_uri": "https://localhost:8080/"
        },
        "id": "iQ_s0D9T_LDP",
        "outputId": "9b3bb0cb-d67f-40e3-c009-ea9ce3c8eefe"
      },
      "execution_count": null,
      "outputs": [
        {
          "output_type": "stream",
          "name": "stdout",
          "text": [
            "We happy to welcome our food court area \n",
            "What do you want to eat now?\n",
            "menu card please!\n",
            "We almost going to close the resturant only limited items available\n",
            "What are the items available now?\n",
            "only dosa and idly dood iteams available\n",
            "<class 'str'>3 idly and 2 Dosa\n",
            "Your order has beed picked 3 idly and 2 Dosa within 3 mints it will serve you \n",
            " Thanks for visiting have a nice day\n"
          ]
        }
      ]
    }
  ]
}