{
  "nbformat": 4,
  "nbformat_minor": 0,
  "metadata": {
    "colab": {
      "provenance": []
    },
    "kernelspec": {
      "name": "python3",
      "display_name": "Python 3"
    },
    "language_info": {
      "name": "python"
    }
  },
  "cells": [
    {
      "cell_type": "markdown",
      "source": [
        "**This Will Help Us to convert string value in integer**"
      ],
      "metadata": {
        "id": "s-s-myPsfhGp"
      }
    },
    {
      "cell_type": "code",
      "execution_count": null,
      "metadata": {
        "colab": {
          "base_uri": "https://localhost:8080/"
        },
        "id": "mnFkY62BYpAl",
        "outputId": "d4363ae5-db6d-46c5-a697-23e7de32c4b0"
      },
      "outputs": [
        {
          "output_type": "stream",
          "name": "stdout",
          "text": [
            "Enter your input (e.g., '160 175 150 180'): 1 2 3\n",
            "Student heights: [1, 2, 3]\n",
            "<class 'int'>\n"
          ]
        }
      ],
      "source": [
        "all_the_student_height = input(\"Enter your input (e.g., '160 175 150 180'): \")\n",
        "\n",
        "# Split the input string into individual height values\n",
        "height_strings = all_the_student_height.split()\n",
        "\n",
        "# Convert the height values to integers\n",
        "heights = [int(height) for height in height_strings]\n",
        "\n",
        "print(\"Student heights:\", heights)\n",
        "print(type(heights[0]))\n"
      ]
    },
    {
      "cell_type": "markdown",
      "source": [
        "**find the heightest value by using for loop**"
      ],
      "metadata": {
        "id": "nNw3CVrDfqJg"
      }
    },
    {
      "cell_type": "code",
      "source": [
        "# Taking Input\n",
        "values = input(\"Kindly enter your input as eg 1 2 3 \")\n",
        "\n",
        "# split the inputs\n",
        "value = values.split()\n",
        "\n",
        "# convert into integer\n",
        "\n",
        "int_value = [int(int_value) for int_value in value ]\n",
        "\n",
        "#excute the result\n",
        "print(f\"Input values as integers{int_value}\")\n",
        "\n",
        "# set the highest value starts with lower\n",
        "highest_value = 0\n",
        "\n",
        "\n",
        "#find the highest number\n",
        "for val in int_value :\n",
        "  print(f\"val {val} - update_value {highest_value}\")\n",
        "  if val > highest_value:\n",
        "    highest_value = val\n",
        "\n",
        "# print the value\n",
        "print(f\"high_value {highest_value}\")\n",
        "\n",
        "\n",
        "\n"
      ],
      "metadata": {
        "colab": {
          "base_uri": "https://localhost:8080/"
        },
        "id": "3ULv7yhSaloF",
        "outputId": "469f6b28-edcc-4083-a908-9bebc5aee5b9"
      },
      "execution_count": null,
      "outputs": [
        {
          "output_type": "stream",
          "name": "stdout",
          "text": [
            "Kindly enter your input as eg 1 2 3 10 8 7 6 5 4 \n",
            "Input values as integers[10, 8, 7, 6, 5, 4]\n",
            "val 10 - update_value 0\n",
            "val 8 - update_value 10\n",
            "val 7 - update_value 10\n",
            "val 6 - update_value 10\n",
            "val 5 - update_value 10\n",
            "val 4 - update_value 10\n",
            "high_value 10\n"
          ]
        }
      ]
    },
    {
      "cell_type": "markdown",
      "source": [
        "**Find the Heighest mark in the school**"
      ],
      "metadata": {
        "id": "R7QmE_c3lxKZ"
      }
    },
    {
      "cell_type": "code",
      "source": [
        "# Take the input\n",
        "\n",
        "All_the_Marks = input(\"Enter the marks in school eg (100 99 98) - \")\n",
        "\n",
        "# split the marks\n",
        "Marks = All_the_Marks.split()\n",
        "\n",
        "# convert into integer\n",
        "\n",
        "Individual_Mark = [int(Mark) for Mark in Marks]\n",
        "\n",
        "# print the Mark\n",
        "\n",
        "print(f\" All the Marks {Individual_Mark}\")\n",
        "\n",
        "#Set the value basic as 0\n",
        "\n",
        "Score = 0\n",
        "\n",
        "# compare and update the mark\n",
        "for Mark in Individual_Mark :\n",
        "  print(f\"Mark is {Mark} & Score is {Score}\")\n",
        "  if Mark > Score:\n",
        "    Score = Mark\n",
        "    print(\"Score is now Updated\")\n",
        "  print(\"Score is now compared\")\n",
        "\n",
        "print(f\"Upgraded Score is {Score}\")\n",
        "\n",
        "\n",
        "\n"
      ],
      "metadata": {
        "colab": {
          "base_uri": "https://localhost:8080/"
        },
        "id": "fWI6Lp0CgljC",
        "outputId": "4068795b-c08f-41fa-9873-177a31fd3414"
      },
      "execution_count": null,
      "outputs": [
        {
          "output_type": "stream",
          "name": "stdout",
          "text": [
            "Enter the marks in school eg (100 99 98) - 1 20 55 64 100 2 3 7 90 99 45\n",
            " All the Marks [1, 20, 55, 64, 100, 2, 3, 7, 90, 99, 45]\n",
            "Mark is 1 & Score is 0\n",
            "Score is now Updated\n",
            "Score is now compared\n",
            "Mark is 20 & Score is 1\n",
            "Score is now Updated\n",
            "Score is now compared\n",
            "Mark is 55 & Score is 20\n",
            "Score is now Updated\n",
            "Score is now compared\n",
            "Mark is 64 & Score is 55\n",
            "Score is now Updated\n",
            "Score is now compared\n",
            "Mark is 100 & Score is 64\n",
            "Score is now Updated\n",
            "Score is now compared\n",
            "Mark is 2 & Score is 100\n",
            "Score is now compared\n",
            "Mark is 3 & Score is 100\n",
            "Score is now compared\n",
            "Mark is 7 & Score is 100\n",
            "Score is now compared\n",
            "Mark is 90 & Score is 100\n",
            "Score is now compared\n",
            "Mark is 99 & Score is 100\n",
            "Score is now compared\n",
            "Mark is 45 & Score is 100\n",
            "Score is now compared\n",
            "Upgraded Score is 100\n"
          ]
        }
      ]
    },
    {
      "cell_type": "markdown",
      "source": [
        "**Range function**"
      ],
      "metadata": {
        "id": "8WyF78shqqPZ"
      }
    },
    {
      "cell_type": "code",
      "source": [
        "# Set the range\n",
        "\n",
        "\n",
        "a = int(input(\"Enter your start range \"))\n",
        "b = int(input(\"Enter your End range \"))\n",
        "\n",
        "# Set the basic value\n",
        "c = 0\n",
        "\n",
        "# Initiated for loop to adding the total values in the the (range of a to b)\n",
        "\n",
        "for r in range(a,b):\n",
        "  c  += r\n",
        "\n",
        "  print(f\"Value is {c}\")\n",
        "  print(c)\n"
      ],
      "metadata": {
        "colab": {
          "base_uri": "https://localhost:8080/"
        },
        "id": "mfxZ4o_fmBij",
        "outputId": "64f5e071-b9e7-429d-85c3-2f275a91d77b"
      },
      "execution_count": null,
      "outputs": [
        {
          "output_type": "stream",
          "name": "stdout",
          "text": [
            "Enter your start range 0\n",
            "Enter your End range 10\n",
            "Value is 0\n",
            "0\n",
            "Value is 1\n",
            "1\n",
            "Value is 3\n",
            "3\n",
            "Value is 6\n",
            "6\n",
            "Value is 10\n",
            "10\n",
            "Value is 15\n",
            "15\n",
            "Value is 21\n",
            "21\n",
            "Value is 28\n",
            "28\n",
            "Value is 36\n",
            "36\n",
            "Value is 45\n",
            "45\n"
          ]
        }
      ]
    },
    {
      "cell_type": "markdown",
      "source": [
        "**Password Generator**"
      ],
      "metadata": {
        "id": "Zru9nhWd8UPe"
      }
    },
    {
      "cell_type": "code",
      "source": [
        "# importing Random function\n",
        "import random\n",
        "\n",
        "# total case letters\n",
        "\n",
        "Capital_Alphabets = ['A','B','C','D','E','F','G','H','I','J','K','L','M','N','O','P','Q','R','S','T','U','V','W','X','Y','Z']\n",
        "small_Alphabets = [str(small_Alphabets).lower() for small_Alphabets in Capital_Alphabets]\n",
        "numbers = [0,1,2,3,4,5,6,7,8,9]\n",
        "characters = ['!','@','#','$','%','&','*','(',')','>','<']\n",
        "\n",
        "# printing the case letters\n",
        "# print(f\"Capital_Alphabets {Capital_Alphabets}\")\n",
        "# print(f\"small_Alphabets {small_Alphabets}\")\n",
        "# print(f\"numbers {numbers}\")\n",
        "# print(f\"characters {characters}\")\n",
        "\n",
        "\n",
        "\n",
        "# What are the exact requirements by manual\n",
        "\n",
        "R_C = Require_Capital = int(input(\"How many Capital Letters in your password (upto 26)\"))\n",
        "if R_C < 3:\n",
        "  print(\"Your Capital choices is weak \\n\")\n",
        "else:\n",
        "  print(\"Your Capital choices is Good \\n\")\n",
        "\n",
        "R_S = Require_small = int(input(\"How many small Letters in your password (upto 26)\"))\n",
        "if R_S < 3:\n",
        "  print(\"Your Small choices is weak \\n\")\n",
        "else:\n",
        "  print(\"Your Small choices is Good \\n\")\n",
        "\n",
        "R_n = Require_numbers = int(input(\"How many numbers in your password (upto 10)\"))\n",
        "if R_n < 3:\n",
        "  print(\"Your number choices is weak \\n\")\n",
        "else:\n",
        "  print(\"Your number choices is Good \\n\")\n",
        "\n",
        "R_H = Require_characters = int(input(\"How many characters in your password (upto 11)\"))\n",
        "if R_H < 3:\n",
        "  print(\"Your characters choices is weak \\n\")\n",
        "else:\n",
        "  print(\"Your characters choices is Good \\n\")\n",
        "\n",
        "\n",
        "# Password Quality\n",
        "password_strength = R_C + R_S + R_n + R_H\n",
        "\n",
        "if password_strength > 8 :\n",
        "    print(f\"your password strength is good and its more than 8 - {password_strength}\")\n",
        "else :\n",
        "    print(f\"your password strength is weak and its les than 8 - {password_strength}\")\n",
        "\n",
        "\n",
        "# Generate the passwords\n",
        "Capital_Alphabets = random.choices(Capital_Alphabets, k=R_C)\n",
        "small_Alphabets   = random.choices(small_Alphabets, k=R_S)\n",
        "numbers           = random.choices(numbers, k=R_n)\n",
        "characters        = random.choices(characters, k=R_H)\n",
        "\n",
        "\n",
        "# adding all the lists into single list\n",
        "\n",
        "Common_cases = Capital_Alphabets + small_Alphabets + numbers + characters\n",
        "\n",
        "print(f\"Password_cases without shuffle - {Common_cases}\")\n",
        "\n",
        "\n",
        "# Shuffle the password list\n",
        "random.shuffle(Common_cases)\n",
        "\n",
        "\n",
        "# join the list into single string\n",
        "Common_cases = ''.join(map(str,Common_cases))\n",
        "\n",
        "\n",
        "# printing the string\n",
        "print(f\"Password_cases - {Common_cases}\")\n",
        "\n",
        "\n",
        "\n",
        "\n"
      ],
      "metadata": {
        "colab": {
          "base_uri": "https://localhost:8080/"
        },
        "id": "Svjd4n86rrOY",
        "outputId": "720c183d-4e66-4edc-c9e4-72e5be5efb30"
      },
      "execution_count": null,
      "outputs": [
        {
          "output_type": "stream",
          "name": "stdout",
          "text": [
            "How many Capital Letters in your password (upto 26)5\n",
            "Your Capital choices is Good \n",
            "\n",
            "How many small Letters in your password (upto 26)4\n",
            "Your Small choices is Good \n",
            "\n",
            "How many numbers in your password (upto 10)3\n",
            "Your number choices is Good \n",
            "\n",
            "How many characters in your password (upto 11)3\n",
            "Your characters choices is Good \n",
            "\n",
            "your password strength is good and its more than 8 - 15\n",
            "Password_cases without shuffle - ['T', 'M', 'A', 'E', 'Y', 'a', 'g', 'u', 'w', 6, 1, 2, '%', '$', ')']\n",
            "Password_cases - MwYug6aE1TA2%$)\n"
          ]
        }
      ]
    },
    {
      "cell_type": "markdown",
      "source": [
        "**Random Function Sample Test**"
      ],
      "metadata": {
        "id": "ZMTJNCi_KXKc"
      }
    },
    {
      "cell_type": "code",
      "source": [
        "43# total case letters\n",
        "\n",
        "Capital_Alphabets = ['A','B','C','D','E','F','G','H','I','J','K','L','M','N','O','P','Q','R','S','T','U','V','W','X','Y','Z']\n",
        "small_Alphabets = [str(small_Alphabets).lower() for small_Alphabets in Capital_Alphabets]\n",
        "numbers = [0,1,2,3,4,5,6,7,8,9]\n",
        "characters = ['!','@','#','$','%','&','*','(',')','>','<']\n",
        "\n",
        "# Get the Random Values\n",
        "\n",
        "small_choice = random.choices(small_Alphabets, k=3)\n",
        "small_sample = random.sample(small_Alphabets, k=3)\n",
        "\n",
        "print(f\"small_choice - {small_choice}\")\n",
        "print(f\"small_sample - {small_sample}\")"
      ],
      "metadata": {
        "colab": {
          "base_uri": "https://localhost:8080/"
        },
        "id": "IiPt1SfmAIKv",
        "outputId": "db414295-0037-45fd-945e-f1b82a2028c2"
      },
      "execution_count": null,
      "outputs": [
        {
          "output_type": "stream",
          "name": "stdout",
          "text": [
            "small_choice - ['r', 'e', 'p']\n",
            "small_sample - ['g', 'z', 'w']\n"
          ]
        }
      ]
    },
    {
      "cell_type": "markdown",
      "source": [
        "**Password Strength Analysis**"
      ],
      "metadata": {
        "id": "jsZn9UFMKdD7"
      }
    },
    {
      "cell_type": "code",
      "source": [
        "# Taking input\n",
        "Password = input(\"Enter your password - \")\n",
        "\n",
        "#Password = \"Lak&shmi2016\"\n",
        "\n",
        "# Convert into list\n",
        "Split_the_password = [Split_the_password for Split_the_password in Password]\n",
        "\n",
        "# Display the Password\n",
        "\n",
        "print(Split_the_password)\n",
        "length_of_password =  len(Split_the_password)\n",
        "print(f\"length_of_password is {length_of_password}\")\n",
        "\n",
        "# Strength of the password\n",
        "\n",
        "p_strength = False\n",
        "\n",
        "# Length of the Password\n",
        "if length_of_password > 8:\n",
        "  print(\"It's Strong and Length of the Password is more than 8\")\n",
        "  p_strength = True\n",
        "else:\n",
        "  print(\"It's weak because Length of the Password is less than 8\")\n",
        "\n",
        "# Initialize flags to check each condition\n",
        "p_uppercase = False\n",
        "p_lowercase = False\n",
        "p_digit = False\n",
        "p_special = False\n",
        "\n",
        "for p in Password:\n",
        "\n",
        "  if p.isalnum():\n",
        "\n",
        "    #Upper\n",
        "    if p.isupper():\n",
        "      p_uppercase = True\n",
        "      print(\"Yes it contains Upper case\")\n",
        "    #lower\n",
        "    elif p.islower():\n",
        "      p_lowercase = True\n",
        "      print(\"Yes it contains Lower case \")\n",
        "    #Digit\n",
        "    elif p.isdigit():\n",
        "      p_digit = True\n",
        "      print(\"Yes its contains Numeric case\")\n",
        "\n",
        "  else :\n",
        "    p_special = True\n",
        "    print(\"Yes it contains Speacial case\")\n",
        "\n",
        "\n",
        "if p_uppercase and p_lowercase and p_digit and p_special and p_strength :\n",
        "  print(\"Password Contains all The Criteria\")\n",
        "\n",
        "else :\n",
        "  print(\"Password does not Contains all The Criteria\")\n",
        "\n"
      ],
      "metadata": {
        "colab": {
          "base_uri": "https://localhost:8080/"
        },
        "outputId": "747fc50e-1fad-4e00-cdae-e4af90685048",
        "id": "hZ1HssuyewFO"
      },
      "execution_count": null,
      "outputs": [
        {
          "output_type": "stream",
          "name": "stdout",
          "text": [
            "Enter your password - Sem203\n",
            "['S', 'e', 'm', '2', '0', '3']\n",
            "length_of_password is 6\n",
            "It's weak because Length of the Password is less than 8\n",
            "Yes it contains Upper case\n",
            "Yes it contains Lower case \n",
            "Yes it contains Lower case \n",
            "Yes its contains Numeric case\n",
            "Yes its contains Numeric case\n",
            "Yes its contains Numeric case\n",
            "Password does not Contains all The Criteria\n"
          ]
        }
      ]
    },
    {
      "cell_type": "code",
      "source": [],
      "metadata": {
        "id": "FcQZQfPKaaDT"
      },
      "execution_count": null,
      "outputs": []
    }
  ]
}