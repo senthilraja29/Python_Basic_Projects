{
  "nbformat": 4,
  "nbformat_minor": 0,
  "metadata": {
    "colab": {
      "provenance": []
    },
    "kernelspec": {
      "name": "python3",
      "display_name": "Python 3"
    },
    "language_info": {
      "name": "python"
    }
  },
  "cells": [
    {
      "cell_type": "markdown",
      "source": [
        "***Dictionary And Nested IF***"
      ],
      "metadata": {
        "id": "SL-oVpqjTlsl"
      }
    },
    {
      "cell_type": "code",
      "source": [
        "Dictionary = {\n",
        "    \"Home\" : \"Parents & Kids\" ,\n",
        "    \"Schools\" : \"Teacher & students\",\n",
        "    \"Shop\" : \"Buyer and seller\"\n",
        "}\n",
        "\n",
        "print(Dictionary)\n",
        "\n",
        "#Adding New values in Dictionary\n",
        "Dictionary[\"youtube\"] = \"Viewer and Uploader\"\n",
        "\n",
        "\n",
        "print(Dictionary)\n"
      ],
      "metadata": {
        "colab": {
          "base_uri": "https://localhost:8080/"
        },
        "id": "h-q-h2I2T52P",
        "outputId": "0bbd853e-1d8a-4951-895b-e6685e29211e"
      },
      "execution_count": null,
      "outputs": [
        {
          "output_type": "stream",
          "name": "stdout",
          "text": [
            "{'Home': 'Parents & Kids', 'Schools': 'Teacher & students', 'Shop': 'Buyer and seller'}\n",
            "{'Home': 'Parents & Kids', 'Schools': 'Teacher & students', 'Shop': 'Buyer and seller', 'youtube': 'Viewer and Uploader'}\n"
          ]
        }
      ]
    },
    {
      "cell_type": "code",
      "source": [
        "# Add values in the grocery shops\n",
        "grocery_shops = {\n",
        "    \"peanuts_in_kg\" : 100,\n",
        "    \"drygrapes_in_kg\" : 50,\n",
        "    \"dates_in_kg\" : 130,\n",
        "    \"butter_in_kg\" : 75,\n",
        "}\n",
        "\n",
        "#Add new dictionary for output\n",
        "grocery_updated = {}\n",
        "\n",
        "\n",
        "for items, things in grocery_shops.items() :\n",
        "\n",
        "  if things > 101 :\n",
        "    grocery_updated[items] = \"Wonderful selling\"\n",
        "\n",
        "  elif things >= 80 :\n",
        "    grocery_updated[items] = \"Good selling\"\n",
        "\n",
        "  elif things >= 55 :\n",
        "    grocery_updated[items] = \"Medium selling\"\n",
        "\n",
        "  else :\n",
        "    grocery_updated[items] = \"Poor Selling\"\n",
        "\n",
        "print(grocery_shops)\n",
        "print(grocery_updated)\n"
      ],
      "metadata": {
        "colab": {
          "base_uri": "https://localhost:8080/"
        },
        "id": "Yam8zRXYZ6nq",
        "outputId": "ee9cb6e0-fc37-467e-fa45-e4b0b5e09715"
      },
      "execution_count": null,
      "outputs": [
        {
          "output_type": "stream",
          "name": "stdout",
          "text": [
            "{'peanuts_in_kg': 100, 'drygrapes_in_kg': 50, 'dates_in_kg': 130, 'butter_in_kg': 75}\n",
            "{'peanuts_in_kg': 'Good selling', 'drygrapes_in_kg': 'Poor Selling', 'dates_in_kg': 'Wonderful selling', 'butter_in_kg': 'Medium selling'}\n"
          ]
        }
      ]
    },
    {
      "cell_type": "markdown",
      "source": [
        "List of **Dictionaries**"
      ],
      "metadata": {
        "id": "zO1oGDgkfKic"
      }
    },
    {
      "cell_type": "code",
      "source": [
        "grocery_shops = [\n",
        "    {\"item\": \"peanuts_in_kg\", \"quantity\": 100},\n",
        "    {\"item\": \"drygrapes_in_kg\", \"quantity\": 50},\n",
        "    {\"item\": \"dates_in_kg\", \"quantity\": 130},\n",
        "    {\"item\": \"butter_in_kg\", \"quantity\": 75},\n",
        "]\n"
      ],
      "metadata": {
        "id": "_FOYAM78fMQb"
      },
      "execution_count": null,
      "outputs": []
    },
    {
      "cell_type": "markdown",
      "source": [
        "**Dictionary of Dictionaries**"
      ],
      "metadata": {
        "id": "l2G2yabbfPJJ"
      }
    },
    {
      "cell_type": "code",
      "source": [
        "grocery_shops = {\n",
        "    \"shop1\": {\"peanuts_in_kg\": 100, \"drygrapes_in_kg\": 50, \"dates_in_kg\": 130, \"butter_in_kg\": 75},\n",
        "    \"shop2\": {\"peanuts_in_kg\": 80, \"drygrapes_in_kg\": 60, \"dates_in_kg\": 110, \"butter_in_kg\": 90},\n",
        "    # ... other shops\n",
        "}\n"
      ],
      "metadata": {
        "id": "LaAyXSpffQuU"
      },
      "execution_count": null,
      "outputs": []
    },
    {
      "cell_type": "code",
      "execution_count": null,
      "metadata": {
        "colab": {
          "base_uri": "https://localhost:8080/"
        },
        "id": "_Iz43BPDPBDR",
        "outputId": "98876d6b-4146-459d-f4b8-fecd72e3f5a5"
      },
      "outputs": [
        {
          "output_type": "stream",
          "name": "stdout",
          "text": [
            "Welcome to purchase Bike in Auction\n",
            "Give your Name - Bhavani Gedda\n",
            "Give your price $  75\n",
            "Enter the input to continue 'yes' or end 'no' yes\n",
            "Give your Name - raja\n",
            "Give your price $  65\n",
            "Enter the input to continue 'yes' or end 'no' no\n",
            "Auction Bids:\n",
            "Bhavani Gedda: $75\n",
            "raja: $65\n",
            "\n",
            "The winner is: Bhavani Gedda with the highest bid of $75\n"
          ]
        }
      ],
      "source": [
        "\"\"\"\n",
        "    _______\n",
        "   |       |\n",
        "   |       |___________________\n",
        "   |Auction|___________________\\\n",
        "   |_______|\n",
        "  /        \\\n",
        " /__________\\\n",
        " \\__________/\n",
        "\n",
        "\"\"\"\n",
        "\n",
        "print (\"Welcome to purchase Bike in Auction\")\n",
        "\n",
        "Bids = {}\n",
        "Auction = False\n",
        "\n",
        "while not Auction :\n",
        "  Name = str(input(\"Give your Name - \"))\n",
        "  Prize = int(input(\"Give your price $  \"))\n",
        "  Bids[Name] = Prize\n",
        "\n",
        "  continue_ = input(str(\"Enter the input to continue 'yes' or end 'no' \"))\n",
        "  if continue_ == \"yes\":\n",
        "    Auction = False\n",
        "  else :\n",
        "    Auction = True\n",
        "\n",
        "# Initialize variables to store the maximum bid and bidder\n",
        "Winner = \"\"\n",
        "max_prize = 0  # Initialize with negative infinity\n",
        "\n",
        "# Iterate through the bids to find the maximum bid and bidder\n",
        "for name, prize in Bids.items():\n",
        "    if prize > max_prize:\n",
        "        max_prize = prize\n",
        "        Winner = name\n",
        "\n",
        "print(\"Auction Bids:\")\n",
        "for name, prize in Bids.items():\n",
        "    print(f\"{name}: ${prize}\")\n",
        "\n",
        "if Winner:  # Check if Winner is present in string\n",
        "    print(f\"\\nThe winner is: {Winner} with the highest bid of ${max_prize}\")\n"
      ]
    },
    {
      "cell_type": "code",
      "source": [
        "print(\"Welcome to purchase Bike in Auction\")\n",
        "\n",
        "Bids = {}\n",
        "Auction = True  # Start the auction\n",
        "\n",
        "while Auction:\n",
        "    Name = input(\"Give your Name: \")\n",
        "    Prize = int(input(\"Give your price $ \"))\n",
        "\n",
        "    Bids[Name] = Prize  # Store the bid in the dictionary\n",
        "\n",
        "    continue_ = input(\"Enter 'yes' to continue or 'no' to end: \")\n",
        "    if continue_.lower() != \"yes\":\n",
        "        Auction = False  # End the auction if input is not 'yes'\n",
        "\n",
        "print(\"Auction Bids:\")\n",
        "for name, prize in Bids.items():\n",
        "    print(f\"{name}: ${prize}\")\n"
      ],
      "metadata": {
        "colab": {
          "base_uri": "https://localhost:8080/"
        },
        "id": "bgo_tanjlqNT",
        "outputId": "d5db7961-1620-41b3-b226-1d57c2806b2b"
      },
      "execution_count": null,
      "outputs": [
        {
          "output_type": "stream",
          "name": "stdout",
          "text": [
            "Welcome to purchase Bike in Auction\n",
            "Give your Name: Raja\n",
            "Give your price $ 60\n",
            "Enter 'yes' to continue or 'no' to end: yes\n",
            "Give your Name: Ram\n",
            "Give your price $ 35\n",
            "Enter 'yes' to continue or 'no' to end: no\n",
            "Auction Bids:\n",
            "Raja: $60\n",
            "Ram: $35\n"
          ]
        }
      ]
    }
  ]
}
