{
  "nbformat": 4,
  "nbformat_minor": 0,
  "metadata": {
    "colab": {
      "provenance": []
    },
    "kernelspec": {
      "name": "python3",
      "display_name": "Python 3"
    },
    "language_info": {
      "name": "python"
    }
  },
  "cells": [
    {
      "cell_type": "markdown",
      "source": [
        "**Data Types**"
      ],
      "metadata": {
        "id": "kNU1Wuzsqupo"
      }
    },
    {
      "cell_type": "code",
      "execution_count": null,
      "metadata": {
        "id": "hf86b7UDmBCG",
        "colab": {
          "base_uri": "https://localhost:8080/"
        },
        "outputId": "b7188e1e-df75-44ce-8ff0-a13a80bb7c70"
      },
      "outputs": [
        {
          "output_type": "stream",
          "name": "stdout",
          "text": [
            "2\n",
            "2.25\n",
            "2\n",
            "if we want round with integer we can use 2.25\n"
          ]
        }
      ],
      "source": [
        "#Data Types\n",
        "\"\"\"\n",
        "String\n",
        "Integer\n",
        "Float\n",
        "Boolean\n",
        "\"\"\"\n",
        "\n",
        "# +,-,*,/,**\n",
        "\n",
        "x = (round(9/4))\n",
        "y = (round(9/4,3))\n",
        "z = (round(9//4))\n",
        "\n",
        "print(x)\n",
        "print(y)\n",
        "print(z)\n",
        "\n",
        "print(f\"if we want round with integer we can use {y}\")"
      ]
    },
    {
      "cell_type": "markdown",
      "source": [
        "**Tip Calculator**"
      ],
      "metadata": {
        "id": "ALfxsuY_shZz"
      }
    },
    {
      "cell_type": "code",
      "source": [
        "print(\"Welcome to our food restraunt\")\n",
        "Money = (float(input(\"Total Food amount in RS? \")))\n",
        "H_C = Head_count = (int(input(\"No.of spilt? \")))\n",
        "\n",
        "Tip = int(input(\"Tips Amount in Rupees \"))\n",
        "\n",
        "Total_Money = Money + Tip\n",
        "\n",
        "I_A = Individual_Amount = round(Total_Money/H_C,2)\n",
        "\n",
        "print(f\"Individual Bill Amount is {I_A}\")\n",
        "\n",
        "\n"
      ],
      "metadata": {
        "colab": {
          "base_uri": "https://localhost:8080/"
        },
        "id": "xJRGjNWRroL2",
        "outputId": "3dd6e989-a8f8-4c1f-ef60-1e1c20faa450"
      },
      "execution_count": null,
      "outputs": [
        {
          "output_type": "stream",
          "name": "stdout",
          "text": [
            "Welcome to our food restraunt\n",
            "Total Food amount in RS? 1347\n",
            "No.of spilt? 4\n",
            "Tips Amount in Rupees 25\n",
            "Individual Bill Amount is 343.0\n"
          ]
        }
      ]
    },
    {
      "cell_type": "code",
      "source": [],
      "metadata": {
        "id": "AmZBGZRXt-Cr"
      },
      "execution_count": null,
      "outputs": []
    }
  ]
}