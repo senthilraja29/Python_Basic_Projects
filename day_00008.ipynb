{
  "nbformat": 4,
  "nbformat_minor": 0,
  "metadata": {
    "colab": {
      "provenance": []
    },
    "kernelspec": {
      "name": "python3",
      "display_name": "Python 3"
    },
    "language_info": {
      "name": "python"
    }
  },
  "cells": [
    {
      "cell_type": "markdown",
      "source": [
        "**Funcation Aruguements**"
      ],
      "metadata": {
        "id": "yi_h-jNdVppS"
      }
    },
    {
      "cell_type": "markdown",
      "source": [
        "*** Index Function ***"
      ],
      "metadata": {
        "id": "PGdOeCuRVYPu"
      }
    },
    {
      "cell_type": "code",
      "source": [
        "# Sample List\n",
        "fruits = [\"apple\", \"banana\", \"cherry\", \"orange\", \"kiwi\"]\n",
        "\n",
        "# Use index() to find the index of an element\n",
        "index_of_cherry = fruits.index(\"cherry\")\n",
        "\n",
        "# Display the result\n",
        "print(f\"The index of 'cherry' in the list is: {index_of_cherry}\")\n",
        "\n",
        "# Replace \"cherry\" with \"mango\"\n",
        "fruits[index_of_cherry] = \"mango\"\n",
        "\n",
        "# Display the updated list\n",
        "print(fruits)\n",
        "\n",
        "# Add \"cherry\" to the end of the list\n",
        "fruits.append(\"cherry\")\n",
        "\n",
        "# Display the updated list\n",
        "print(fruits)\n"
      ],
      "metadata": {
        "id": "tWc_hI1Y8ifP",
        "colab": {
          "base_uri": "https://localhost:8080/"
        },
        "outputId": "5c44b45f-251f-46ae-cb5d-10418e0ee049"
      },
      "execution_count": null,
      "outputs": [
        {
          "output_type": "stream",
          "name": "stdout",
          "text": [
            "The index of 'cherry' in the list is: 2\n",
            "['apple', 'banana', 'mango', 'orange', 'kiwi']\n",
            "['apple', 'banana', 'mango', 'orange', 'kiwi', 'cherry']\n"
          ]
        }
      ]
    },
    {
      "cell_type": "code",
      "execution_count": null,
      "metadata": {
        "colab": {
          "base_uri": "https://localhost:8080/"
        },
        "id": "aa_x6XqnyLrL",
        "outputId": "12f8b8e2-602b-4929-be7e-f174961e9033"
      },
      "outputs": [
        {
          "output_type": "stream",
          "name": "stdout",
          "text": [
            "HI Senthil Raja are you in Edappadi\n"
          ]
        }
      ],
      "source": [
        "\"\"\"\n",
        "def senthil(K, Location):\n",
        "  print(f\"HI {K} Raja are you in {Location}\")\n",
        "\n",
        "senthil(\"Senthil\",\"edappadi\")\n",
        "\"\"\"\n",
        "\n",
        "def senthil(Name, Location):\n",
        "    print(f\"HI {Name} are you in {Location}\")\n",
        "\n",
        "senthil(Location = \"Edappadi\" , Name = \"Senthil Raja\")\n",
        "\n"
      ]
    },
    {
      "cell_type": "markdown",
      "source": [
        "**Prime Number**"
      ],
      "metadata": {
        "id": "WZ1pMxfBWU_g"
      }
    },
    {
      "cell_type": "code",
      "source": [
        "def is_prime(number):\n",
        "    if number < 2:\n",
        "        return False\n",
        "    for i in range(2, int(number**0.5) + 1):\n",
        "        if number % i == 0:\n",
        "            return False\n",
        "    return True\n",
        "\n",
        "def generate_primes(start, end):\n",
        "    primes = []\n",
        "    for num in range(max(2, start), end + 1):\n",
        "        is_prime_num = is_prime(num)\n",
        "        if is_prime_num:\n",
        "            primes.append(num)\n",
        "    return primes\n",
        "\n",
        "def main():\n",
        "    print(\"Prime Number Tool\")\n",
        "\n",
        "    choice = input(\"Enter 'I' for individual number check or 'R' for range generation: \").upper()\n",
        "\n",
        "    if choice == 'I':\n",
        "        number = int(input(\"Enter a number to check for primality: \"))\n",
        "        if is_prime(number):\n",
        "            print(f\"{number} is a prime number.\")\n",
        "        else:\n",
        "            print(f\"{number} is not a prime number.\")\n",
        "\n",
        "    elif choice == 'R':\n",
        "        start = int(input(\"Enter the starting range: \"))\n",
        "        end = int(input(\"Enter the ending range: \"))\n",
        "\n",
        "        if start < 2:\n",
        "            print(\"Start value adjusted to 2.\")\n",
        "            start = 2\n",
        "\n",
        "        if end < 2:\n",
        "            print(\"End value adjusted to 2.\")\n",
        "            end = 2\n",
        "\n",
        "        if start > end:\n",
        "            print(\"Invalid range. Start value should be less than or equal to the end value.\")\n",
        "            return\n",
        "\n",
        "        prime_numbers = generate_primes(start, end)\n",
        "\n",
        "        if prime_numbers:\n",
        "            print(f\"Prime numbers between {start} and {end}:\")\n",
        "            print(prime_numbers)\n",
        "        else:\n",
        "            print(f\"No prime numbers found between {start} and {end}.\")\n",
        "\n",
        "    else:\n",
        "        print(\"Invalid choice. Please enter 'I' or 'R'.\")\n",
        "\n",
        "if __name__ == \"__main__\":\n",
        "    main()\n"
      ],
      "metadata": {
        "colab": {
          "base_uri": "https://localhost:8080/"
        },
        "id": "P8gyEflZWS_Z",
        "outputId": "5fc523a4-7e79-47cd-c6cc-efadc31588e7"
      },
      "execution_count": null,
      "outputs": [
        {
          "output_type": "stream",
          "name": "stdout",
          "text": [
            "Prime Number Tool\n",
            "Enter 'I' for individual number check or 'R' for range generation: R\n",
            "Enter the starting range: 1\n",
            "Enter the ending range: 199\n",
            "Start value adjusted to 2.\n",
            "Prime numbers between 2 and 199:\n",
            "[2, 3, 5, 7, 11, 13, 17, 19, 23, 29, 31, 37, 41, 43, 47, 53, 59, 61, 67, 71, 73, 79, 83, 89, 97, 101, 103, 107, 109, 113, 127, 131, 137, 139, 149, 151, 157, 163, 167, 173, 179, 181, 191, 193, 197, 199]\n"
          ]
        }
      ]
    },
    {
      "cell_type": "markdown",
      "source": [
        "***Caeser Cipher***"
      ],
      "metadata": {
        "id": "w_8_iQXCaACz"
      }
    },
    {
      "cell_type": "code",
      "source": [
        "def encrypt(text, shift):\n",
        "    result = \"\"\n",
        "    for char in text:\n",
        "        if char.isalpha():\n",
        "            # Determine if the character is uppercase or lowercase\n",
        "            is_upper = char.isupper()\n",
        "\n",
        "            # Shift the character by the specified amount\n",
        "            shifted_char = chr((ord(char) + shift - ord('A' if is_upper else 'a')) % 26 + ord('A' if is_upper else 'a'))\n",
        "\n",
        "            result += shifted_char\n",
        "        else:\n",
        "            result += char\n",
        "    return result\n",
        "\n",
        "def decrypt(text, shift):\n",
        "    # Decryption is the same as encryption with a negative shift\n",
        "    return encrypt(text, -shift)\n",
        "\n",
        "def main():\n",
        "    print(\"Caesar Cipher Program\")\n",
        "\n",
        "    while True:\n",
        "        choice = input(\"Enter 'E' to encrypt, 'D' to decrypt, or 'Q' to quit: \").upper()\n",
        "\n",
        "        if choice == 'Q':\n",
        "            print(\"Exiting the program. Goodbye!\")\n",
        "            break\n",
        "\n",
        "        text = input(\"Enter the text: \")\n",
        "        shift = int(input(\"Enter the shift value: \"))\n",
        "\n",
        "        if choice == 'E':\n",
        "            encrypted_text = encrypt(text, shift)\n",
        "            print(f\"Encrypted Text: {encrypted_text}\")\n",
        "\n",
        "        elif choice == 'D':\n",
        "            decrypted_text = decrypt(text, shift)\n",
        "            print(f\"Decrypted Text: {decrypted_text}\")\n",
        "\n",
        "        else:\n",
        "            print(\"Invalid choice. Please enter 'E', 'D', or 'Q'.\")\n",
        "\n",
        "if __name__ == \"__main__\":\n",
        "    main()\n"
      ],
      "metadata": {
        "colab": {
          "base_uri": "https://localhost:8080/",
          "height": 527
        },
        "id": "Pju8buxFyW1h",
        "outputId": "57096e2a-81f1-4389-a43f-d8ce96c74976"
      },
      "execution_count": null,
      "outputs": [
        {
          "output_type": "stream",
          "name": "stdout",
          "text": [
            "Caesar Cipher Program\n",
            "Enter 'E' to encrypt, 'D' to decrypt, or 'Q' to quit: e\n",
            "Enter the text: A\n",
            "Enter the shift value: 2\n",
            "Encrypted Text: C\n",
            "Enter 'E' to encrypt, 'D' to decrypt, or 'Q' to quit: D\n",
            "Enter the text: C\n",
            "Enter the shift value: 2\n",
            "Decrypted Text: A\n"
          ]
        },
        {
          "output_type": "error",
          "ename": "KeyboardInterrupt",
          "evalue": "Interrupted by user",
          "traceback": [
            "\u001b[0;31m---------------------------------------------------------------------------\u001b[0m",
            "\u001b[0;31mKeyboardInterrupt\u001b[0m                         Traceback (most recent call last)",
            "\u001b[0;32m<ipython-input-1-e7d2195a2b3a>\u001b[0m in \u001b[0;36m<cell line: 44>\u001b[0;34m()\u001b[0m\n\u001b[1;32m     43\u001b[0m \u001b[0;34m\u001b[0m\u001b[0m\n\u001b[1;32m     44\u001b[0m \u001b[0;32mif\u001b[0m \u001b[0m__name__\u001b[0m \u001b[0;34m==\u001b[0m \u001b[0;34m\"__main__\"\u001b[0m\u001b[0;34m:\u001b[0m\u001b[0;34m\u001b[0m\u001b[0;34m\u001b[0m\u001b[0m\n\u001b[0;32m---> 45\u001b[0;31m     \u001b[0mmain\u001b[0m\u001b[0;34m(\u001b[0m\u001b[0;34m)\u001b[0m\u001b[0;34m\u001b[0m\u001b[0;34m\u001b[0m\u001b[0m\n\u001b[0m",
            "\u001b[0;32m<ipython-input-1-e7d2195a2b3a>\u001b[0m in \u001b[0;36mmain\u001b[0;34m()\u001b[0m\n\u001b[1;32m     22\u001b[0m \u001b[0;34m\u001b[0m\u001b[0m\n\u001b[1;32m     23\u001b[0m     \u001b[0;32mwhile\u001b[0m \u001b[0;32mTrue\u001b[0m\u001b[0;34m:\u001b[0m\u001b[0;34m\u001b[0m\u001b[0;34m\u001b[0m\u001b[0m\n\u001b[0;32m---> 24\u001b[0;31m         \u001b[0mchoice\u001b[0m \u001b[0;34m=\u001b[0m \u001b[0minput\u001b[0m\u001b[0;34m(\u001b[0m\u001b[0;34m\"Enter 'E' to encrypt, 'D' to decrypt, or 'Q' to quit: \"\u001b[0m\u001b[0;34m)\u001b[0m\u001b[0;34m.\u001b[0m\u001b[0mupper\u001b[0m\u001b[0;34m(\u001b[0m\u001b[0;34m)\u001b[0m\u001b[0;34m\u001b[0m\u001b[0;34m\u001b[0m\u001b[0m\n\u001b[0m\u001b[1;32m     25\u001b[0m \u001b[0;34m\u001b[0m\u001b[0m\n\u001b[1;32m     26\u001b[0m         \u001b[0;32mif\u001b[0m \u001b[0mchoice\u001b[0m \u001b[0;34m==\u001b[0m \u001b[0;34m'Q'\u001b[0m\u001b[0;34m:\u001b[0m\u001b[0;34m\u001b[0m\u001b[0;34m\u001b[0m\u001b[0m\n",
            "\u001b[0;32m/usr/local/lib/python3.10/dist-packages/ipykernel/kernelbase.py\u001b[0m in \u001b[0;36mraw_input\u001b[0;34m(self, prompt)\u001b[0m\n\u001b[1;32m    849\u001b[0m                 \u001b[0;34m\"raw_input was called, but this frontend does not support input requests.\"\u001b[0m\u001b[0;34m\u001b[0m\u001b[0;34m\u001b[0m\u001b[0m\n\u001b[1;32m    850\u001b[0m             )\n\u001b[0;32m--> 851\u001b[0;31m         return self._input_request(str(prompt),\n\u001b[0m\u001b[1;32m    852\u001b[0m             \u001b[0mself\u001b[0m\u001b[0;34m.\u001b[0m\u001b[0m_parent_ident\u001b[0m\u001b[0;34m,\u001b[0m\u001b[0;34m\u001b[0m\u001b[0;34m\u001b[0m\u001b[0m\n\u001b[1;32m    853\u001b[0m             \u001b[0mself\u001b[0m\u001b[0;34m.\u001b[0m\u001b[0m_parent_header\u001b[0m\u001b[0;34m,\u001b[0m\u001b[0;34m\u001b[0m\u001b[0;34m\u001b[0m\u001b[0m\n",
            "\u001b[0;32m/usr/local/lib/python3.10/dist-packages/ipykernel/kernelbase.py\u001b[0m in \u001b[0;36m_input_request\u001b[0;34m(self, prompt, ident, parent, password)\u001b[0m\n\u001b[1;32m    893\u001b[0m             \u001b[0;32mexcept\u001b[0m \u001b[0mKeyboardInterrupt\u001b[0m\u001b[0;34m:\u001b[0m\u001b[0;34m\u001b[0m\u001b[0;34m\u001b[0m\u001b[0m\n\u001b[1;32m    894\u001b[0m                 \u001b[0;31m# re-raise KeyboardInterrupt, to truncate traceback\u001b[0m\u001b[0;34m\u001b[0m\u001b[0;34m\u001b[0m\u001b[0m\n\u001b[0;32m--> 895\u001b[0;31m                 \u001b[0;32mraise\u001b[0m \u001b[0mKeyboardInterrupt\u001b[0m\u001b[0;34m(\u001b[0m\u001b[0;34m\"Interrupted by user\"\u001b[0m\u001b[0;34m)\u001b[0m \u001b[0;32mfrom\u001b[0m \u001b[0;32mNone\u001b[0m\u001b[0;34m\u001b[0m\u001b[0;34m\u001b[0m\u001b[0m\n\u001b[0m\u001b[1;32m    896\u001b[0m             \u001b[0;32mexcept\u001b[0m \u001b[0mException\u001b[0m \u001b[0;32mas\u001b[0m \u001b[0me\u001b[0m\u001b[0;34m:\u001b[0m\u001b[0;34m\u001b[0m\u001b[0;34m\u001b[0m\u001b[0m\n\u001b[1;32m    897\u001b[0m                 \u001b[0mself\u001b[0m\u001b[0;34m.\u001b[0m\u001b[0mlog\u001b[0m\u001b[0;34m.\u001b[0m\u001b[0mwarning\u001b[0m\u001b[0;34m(\u001b[0m\u001b[0;34m\"Invalid Message:\"\u001b[0m\u001b[0;34m,\u001b[0m \u001b[0mexc_info\u001b[0m\u001b[0;34m=\u001b[0m\u001b[0;32mTrue\u001b[0m\u001b[0;34m)\u001b[0m\u001b[0;34m\u001b[0m\u001b[0;34m\u001b[0m\u001b[0m\n",
            "\u001b[0;31mKeyboardInterrupt\u001b[0m: Interrupted by user"
          ]
        }
      ]
    },
    {
      "cell_type": "code",
      "source": [
        "alphabet = [\"a\", \"b\", \"c\", \"d\", \"e\", \"f\", \"g\", \"h\", \"i\", \"j\", \"k\", \"l\", \"m\", \"n\", \"o\", \"p\", \"q\", \"r\", \"s\", \"t\", \"u\", \"v\", \"w\", \"x\", \"y\", \"z\"]\n",
        "\n",
        "def encrypt(plain_text, shift_amount):\n",
        "    cipher_text = \"\"\n",
        "    for letter in plain_text:\n",
        "        if letter in alphabet:\n",
        "            position = alphabet.index(letter)\n",
        "            new_position = (shift_amount + position) % 26\n",
        "            new_letter = alphabet[new_position]\n",
        "            cipher_text += new_letter\n",
        "        else:\n",
        "            cipher_text += letter\n",
        "    return cipher_text\n",
        "\n",
        "def decrypt(cipher_text, shift_amount):\n",
        "    return encrypt(cipher_text, -shift_amount)\n",
        "\n",
        "def main():\n",
        "    while True:\n",
        "        choice = input(\"Enter 'E' to encrypt, 'D' to decrypt, or 'Q' to quit: \").upper()\n",
        "\n",
        "        if choice == 'Q':\n",
        "            print(\"Exiting the program. Goodbye!\")\n",
        "            break\n",
        "        elif choice == 'E' or choice == 'D':\n",
        "            text = input(\"Enter the text: \")\n",
        "            shift = int(input(\"Enter the shift: \"))\n",
        "\n",
        "            if choice == 'E':\n",
        "                result = encrypt(text, shift)\n",
        "                print(f\"The encrypted text: {result}\")\n",
        "            else:\n",
        "                result = decrypt(text, shift)\n",
        "                print(f\"The decrypted text: {result}\")\n",
        "        else:\n",
        "            print(\"Invalid choice. Please enter 'E', 'D', or 'Q'.\")\n",
        "\n",
        "if __name__ == \"__main__\":\n",
        "    main()\n",
        "\n"
      ],
      "metadata": {
        "colab": {
          "base_uri": "https://localhost:8080/"
        },
        "id": "-xUL-BHC8kSj",
        "outputId": "8600aec4-e48b-4bd8-be84-5fe88eb24ae6"
      },
      "execution_count": null,
      "outputs": [
        {
          "output_type": "stream",
          "name": "stdout",
          "text": [
            "Enter 'E' to encrypt, 'D' to decrypt, or 'Q' to quit: E\n",
            "Enter the text: senthil\n",
            "Enter the shift: 9\n",
            "The encrypted text: bnwcqru\n",
            "Enter 'E' to encrypt, 'D' to decrypt, or 'Q' to quit: d\n",
            "Enter the text: bnwcqru\n",
            "Enter the shift: 9\n",
            "The decrypted text: senthil\n",
            "Enter 'E' to encrypt, 'D' to decrypt, or 'Q' to quit: q\n",
            "Exiting the program. Goodbye!\n"
          ]
        }
      ]
    }
  ]
}